{
 "cells": [
  {
   "cell_type": "markdown",
   "metadata": {},
   "source": [
    "#  2012 USA Presidential Campaign Finance 数据分析"
   ]
  },
  {
   "cell_type": "markdown",
   "metadata": {},
   "source": [
    "### （1） 业务理解"
   ]
  },
  {
   "cell_type": "markdown",
   "metadata": {},
   "source": [
    "![images/PCF.png](images/PCF.png)"
   ]
  },
  {
   "cell_type": "markdown",
   "metadata": {},
   "source": [
    "### （2） 读入数据"
   ]
  },
  {
   "cell_type": "code",
   "execution_count": 3,
   "metadata": {},
   "outputs": [],
   "source": [
    "import pandas as pd"
   ]
  },
  {
   "cell_type": "code",
   "execution_count": 4,
   "metadata": {
    "scrolled": true
   },
   "outputs": [
    {
     "name": "stderr",
     "output_type": "stream",
     "text": [
      "C:\\Anaconda\\lib\\site-packages\\IPython\\core\\interactiveshell.py:3020: DtypeWarning: Columns (6,11,12,13) have mixed types. Specify dtype option on import or set low_memory=False.\n",
      "  interactivity=interactivity, compiler=compiler, result=result)\n"
     ]
    },
    {
     "name": "stdout",
     "output_type": "stream",
     "text": [
      "<class 'pandas.core.frame.DataFrame'>\n",
      "RangeIndex: 6036458 entries, 0 to 6036457\n",
      "Data columns (total 18 columns):\n",
      "cmte_id              object\n",
      "cand_id              object\n",
      "cand_nm              object\n",
      "contbr_nm            object\n",
      "contbr_city          object\n",
      "contbr_st            object\n",
      "contbr_zip           object\n",
      "contbr_employer      object\n",
      "contbr_occupation    object\n",
      "contb_receipt_amt    float64\n",
      "contb_receipt_dt     datetime64[ns]\n",
      "receipt_desc         object\n",
      "memo_cd              object\n",
      "memo_text            object\n",
      "form_tp              object\n",
      "file_num             int64\n",
      "tran_id              object\n",
      "election_tp          object\n",
      "dtypes: datetime64[ns](1), float64(1), int64(1), object(15)\n",
      "memory usage: 829.0+ MB\n"
     ]
    }
   ],
   "source": [
    "PCF = pd.read_csv('PCF/FEC-PCF-ALL.csv',index_col=False,infer_datetime_format=True, parse_dates=[\"contb_receipt_dt\"])\n",
    " \n",
    "    \n",
    "PCF.info()\n",
    "\n",
    "\n",
    "    "
   ]
  },
  {
   "cell_type": "code",
   "execution_count": 5,
   "metadata": {},
   "outputs": [
    {
     "data": {
      "text/plain": [
       "Index(['cmte_id', 'cand_id', 'cand_nm', 'contbr_nm', 'contbr_city',\n",
       "       'contbr_st', 'contbr_zip', 'contbr_employer', 'contbr_occupation',\n",
       "       'contb_receipt_amt', 'contb_receipt_dt', 'receipt_desc', 'memo_cd',\n",
       "       'memo_text', 'form_tp', 'file_num', 'tran_id', 'election_tp'],\n",
       "      dtype='object')"
      ]
     },
     "execution_count": 5,
     "metadata": {},
     "output_type": "execute_result"
    }
   ],
   "source": [
    "PCF.columns"
   ]
  },
  {
   "cell_type": "code",
   "execution_count": 6,
   "metadata": {},
   "outputs": [
    {
     "name": "stdout",
     "output_type": "stream",
     "text": [
      "<class 'pandas.core.frame.DataFrame'>\n",
      "RangeIndex: 6036458 entries, 0 to 6036457\n",
      "Data columns (total 13 columns):\n",
      "cmte_id              object\n",
      "cand_id              object\n",
      "cand_nm              object\n",
      "contbr_nm            object\n",
      "contbr_city          object\n",
      "contbr_st            object\n",
      "contbr_zip           object\n",
      "contbr_employer      object\n",
      "contbr_occupation    object\n",
      "contb_receipt_amt    float64\n",
      "contb_receipt_dt     datetime64[ns]\n",
      "file_num             int64\n",
      "tran_id              object\n",
      "dtypes: datetime64[ns](1), float64(1), int64(1), object(10)\n",
      "memory usage: 598.7+ MB\n"
     ]
    }
   ],
   "source": [
    "PCF=PCF.drop([\"form_tp\",\"memo_cd\",\"memo_text\",\"receipt_desc\",\"election_tp\"],axis=1)\n",
    "    #【注意】drop可以修改数据本身，但需要注意设置axis属性。\n",
    "    #PCF.drop('cand_id',axis=1)\n",
    "PCF.info()"
   ]
  },
  {
   "cell_type": "code",
   "execution_count": 7,
   "metadata": {},
   "outputs": [
    {
     "data": {
      "text/html": [
       "<div>\n",
       "<style scoped>\n",
       "    .dataframe tbody tr th:only-of-type {\n",
       "        vertical-align: middle;\n",
       "    }\n",
       "\n",
       "    .dataframe tbody tr th {\n",
       "        vertical-align: top;\n",
       "    }\n",
       "\n",
       "    .dataframe thead th {\n",
       "        text-align: right;\n",
       "    }\n",
       "</style>\n",
       "<table border=\"1\" class=\"dataframe\">\n",
       "  <thead>\n",
       "    <tr style=\"text-align: right;\">\n",
       "      <th></th>\n",
       "      <th>cmte_id</th>\n",
       "      <th>cand_id</th>\n",
       "      <th>cand_nm</th>\n",
       "      <th>contbr_nm</th>\n",
       "      <th>contbr_city</th>\n",
       "      <th>contbr_st</th>\n",
       "      <th>contbr_zip</th>\n",
       "      <th>contbr_employer</th>\n",
       "      <th>contbr_occupation</th>\n",
       "      <th>contb_receipt_amt</th>\n",
       "      <th>contb_receipt_dt</th>\n",
       "      <th>file_num</th>\n",
       "      <th>tran_id</th>\n",
       "    </tr>\n",
       "  </thead>\n",
       "  <tbody>\n",
       "    <tr>\n",
       "      <th>0</th>\n",
       "      <td>C00410118</td>\n",
       "      <td>P20002978</td>\n",
       "      <td>Bachmann, Michele</td>\n",
       "      <td>HARVEY, WILLIAM</td>\n",
       "      <td>MOBILE</td>\n",
       "      <td>AL</td>\n",
       "      <td>3.6601e+08</td>\n",
       "      <td>RETIRED</td>\n",
       "      <td>RETIRED</td>\n",
       "      <td>250.0</td>\n",
       "      <td>2011-06-20</td>\n",
       "      <td>736166</td>\n",
       "      <td>A1FDABC23D2D545A1B83</td>\n",
       "    </tr>\n",
       "    <tr>\n",
       "      <th>1</th>\n",
       "      <td>C00410118</td>\n",
       "      <td>P20002978</td>\n",
       "      <td>Bachmann, Michele</td>\n",
       "      <td>HARVEY, WILLIAM</td>\n",
       "      <td>MOBILE</td>\n",
       "      <td>AL</td>\n",
       "      <td>3.6601e+08</td>\n",
       "      <td>RETIRED</td>\n",
       "      <td>RETIRED</td>\n",
       "      <td>50.0</td>\n",
       "      <td>2011-06-23</td>\n",
       "      <td>736166</td>\n",
       "      <td>A899B9B0E223743EFA63</td>\n",
       "    </tr>\n",
       "    <tr>\n",
       "      <th>2</th>\n",
       "      <td>C00410118</td>\n",
       "      <td>P20002978</td>\n",
       "      <td>Bachmann, Michele</td>\n",
       "      <td>SMITH, LANIER</td>\n",
       "      <td>LANETT</td>\n",
       "      <td>AL</td>\n",
       "      <td>3.68633e+08</td>\n",
       "      <td>INFORMATION REQUESTED</td>\n",
       "      <td>INFORMATION REQUESTED</td>\n",
       "      <td>250.0</td>\n",
       "      <td>2011-07-05</td>\n",
       "      <td>749073</td>\n",
       "      <td>A4B144E3CB3294ABC9D6</td>\n",
       "    </tr>\n",
       "    <tr>\n",
       "      <th>3</th>\n",
       "      <td>C00410118</td>\n",
       "      <td>P20002978</td>\n",
       "      <td>Bachmann, Michele</td>\n",
       "      <td>BLEVINS, DARONDA</td>\n",
       "      <td>PIGGOTT</td>\n",
       "      <td>AR</td>\n",
       "      <td>7.24548e+08</td>\n",
       "      <td>NONE</td>\n",
       "      <td>RETIRED</td>\n",
       "      <td>250.0</td>\n",
       "      <td>2011-08-01</td>\n",
       "      <td>749073</td>\n",
       "      <td>A8C7C6F55B0914C5A880</td>\n",
       "    </tr>\n",
       "    <tr>\n",
       "      <th>4</th>\n",
       "      <td>C00410118</td>\n",
       "      <td>P20002978</td>\n",
       "      <td>Bachmann, Michele</td>\n",
       "      <td>WARDENBURG, HAROLD</td>\n",
       "      <td>HOT SPRINGS NATION</td>\n",
       "      <td>AR</td>\n",
       "      <td>7.19016e+08</td>\n",
       "      <td>NONE</td>\n",
       "      <td>RETIRED</td>\n",
       "      <td>300.0</td>\n",
       "      <td>2011-06-20</td>\n",
       "      <td>736166</td>\n",
       "      <td>A070D6D560BD84AA98AC</td>\n",
       "    </tr>\n",
       "  </tbody>\n",
       "</table>\n",
       "</div>"
      ],
      "text/plain": [
       "     cmte_id    cand_id            cand_nm           contbr_nm  \\\n",
       "0  C00410118  P20002978  Bachmann, Michele     HARVEY, WILLIAM   \n",
       "1  C00410118  P20002978  Bachmann, Michele     HARVEY, WILLIAM   \n",
       "2  C00410118  P20002978  Bachmann, Michele       SMITH, LANIER   \n",
       "3  C00410118  P20002978  Bachmann, Michele    BLEVINS, DARONDA   \n",
       "4  C00410118  P20002978  Bachmann, Michele  WARDENBURG, HAROLD   \n",
       "\n",
       "          contbr_city contbr_st   contbr_zip        contbr_employer  \\\n",
       "0              MOBILE        AL   3.6601e+08                RETIRED   \n",
       "1              MOBILE        AL   3.6601e+08                RETIRED   \n",
       "2              LANETT        AL  3.68633e+08  INFORMATION REQUESTED   \n",
       "3             PIGGOTT        AR  7.24548e+08                   NONE   \n",
       "4  HOT SPRINGS NATION        AR  7.19016e+08                   NONE   \n",
       "\n",
       "       contbr_occupation  contb_receipt_amt contb_receipt_dt  file_num  \\\n",
       "0                RETIRED              250.0       2011-06-20    736166   \n",
       "1                RETIRED               50.0       2011-06-23    736166   \n",
       "2  INFORMATION REQUESTED              250.0       2011-07-05    749073   \n",
       "3                RETIRED              250.0       2011-08-01    749073   \n",
       "4                RETIRED              300.0       2011-06-20    736166   \n",
       "\n",
       "                tran_id  \n",
       "0  A1FDABC23D2D545A1B83  \n",
       "1  A899B9B0E223743EFA63  \n",
       "2  A4B144E3CB3294ABC9D6  \n",
       "3  A8C7C6F55B0914C5A880  \n",
       "4  A070D6D560BD84AA98AC  "
      ]
     },
     "execution_count": 7,
     "metadata": {},
     "output_type": "execute_result"
    }
   ],
   "source": [
    "PCF.head()"
   ]
  },
  {
   "cell_type": "code",
   "execution_count": 8,
   "metadata": {},
   "outputs": [],
   "source": [
    "PCF.to_csv(\"PCF/PCF.csv\")"
   ]
  },
  {
   "cell_type": "code",
   "execution_count": 9,
   "metadata": {},
   "outputs": [
    {
     "data": {
      "text/plain": [
       "'C:\\\\Users\\\\soloman\\\\clm\\\\美国总统大选数据分析'"
      ]
     },
     "execution_count": 9,
     "metadata": {},
     "output_type": "execute_result"
    }
   ],
   "source": [
    "import pandas as pd\n",
    "import os\n",
    "os.getcwd()"
   ]
  },
  {
   "cell_type": "code",
   "execution_count": 10,
   "metadata": {},
   "outputs": [
    {
     "name": "stderr",
     "output_type": "stream",
     "text": [
      "C:\\Anaconda\\lib\\site-packages\\IPython\\core\\interactiveshell.py:3020: DtypeWarning: Columns (7) have mixed types. Specify dtype option on import or set low_memory=False.\n",
      "  interactivity=interactivity, compiler=compiler, result=result)\n"
     ]
    },
    {
     "name": "stdout",
     "output_type": "stream",
     "text": [
      "<class 'pandas.core.frame.DataFrame'>\n",
      "RangeIndex: 6036458 entries, 0 to 6036457\n",
      "Data columns (total 14 columns):\n",
      "Unnamed: 0           int64\n",
      "cmte_id              object\n",
      "cand_id              object\n",
      "cand_nm              object\n",
      "contbr_nm            object\n",
      "contbr_city          object\n",
      "contbr_st            object\n",
      "contbr_zip           object\n",
      "contbr_employer      object\n",
      "contbr_occupation    object\n",
      "contb_receipt_amt    float64\n",
      "contb_receipt_dt     datetime64[ns]\n",
      "file_num             int64\n",
      "tran_id              object\n",
      "dtypes: datetime64[ns](1), float64(1), int64(2), object(10)\n",
      "memory usage: 644.8+ MB\n"
     ]
    }
   ],
   "source": [
    "PCF = pd.read_csv('PCF/PCF.csv',header=0,infer_datetime_format=True, parse_dates=[\"contb_receipt_dt\"])\n",
    "   \n",
    "PCF.info()"
   ]
  },
  {
   "cell_type": "markdown",
   "metadata": {},
   "source": [
    "### （3） 理解数据"
   ]
  },
  {
   "cell_type": "code",
   "execution_count": 11,
   "metadata": {},
   "outputs": [
    {
     "data": {
      "text/plain": [
       "(6036458, 14)"
      ]
     },
     "execution_count": 11,
     "metadata": {},
     "output_type": "execute_result"
    }
   ],
   "source": [
    "PCF.shape"
   ]
  },
  {
   "cell_type": "code",
   "execution_count": 12,
   "metadata": {},
   "outputs": [
    {
     "data": {
      "text/html": [
       "<div>\n",
       "<style scoped>\n",
       "    .dataframe tbody tr th:only-of-type {\n",
       "        vertical-align: middle;\n",
       "    }\n",
       "\n",
       "    .dataframe tbody tr th {\n",
       "        vertical-align: top;\n",
       "    }\n",
       "\n",
       "    .dataframe thead th {\n",
       "        text-align: right;\n",
       "    }\n",
       "</style>\n",
       "<table border=\"1\" class=\"dataframe\">\n",
       "  <thead>\n",
       "    <tr style=\"text-align: right;\">\n",
       "      <th></th>\n",
       "      <th>Unnamed: 0</th>\n",
       "      <th>cmte_id</th>\n",
       "      <th>cand_id</th>\n",
       "      <th>cand_nm</th>\n",
       "      <th>contbr_nm</th>\n",
       "      <th>contbr_city</th>\n",
       "      <th>contbr_st</th>\n",
       "      <th>contbr_zip</th>\n",
       "      <th>contbr_employer</th>\n",
       "      <th>contbr_occupation</th>\n",
       "      <th>contb_receipt_amt</th>\n",
       "      <th>contb_receipt_dt</th>\n",
       "      <th>file_num</th>\n",
       "      <th>tran_id</th>\n",
       "    </tr>\n",
       "  </thead>\n",
       "  <tbody>\n",
       "    <tr>\n",
       "      <th>0</th>\n",
       "      <td>0</td>\n",
       "      <td>C00410118</td>\n",
       "      <td>P20002978</td>\n",
       "      <td>Bachmann, Michele</td>\n",
       "      <td>HARVEY, WILLIAM</td>\n",
       "      <td>MOBILE</td>\n",
       "      <td>AL</td>\n",
       "      <td>3.6601e+08</td>\n",
       "      <td>RETIRED</td>\n",
       "      <td>RETIRED</td>\n",
       "      <td>250.0</td>\n",
       "      <td>2011-06-20</td>\n",
       "      <td>736166</td>\n",
       "      <td>A1FDABC23D2D545A1B83</td>\n",
       "    </tr>\n",
       "    <tr>\n",
       "      <th>1</th>\n",
       "      <td>1</td>\n",
       "      <td>C00410118</td>\n",
       "      <td>P20002978</td>\n",
       "      <td>Bachmann, Michele</td>\n",
       "      <td>HARVEY, WILLIAM</td>\n",
       "      <td>MOBILE</td>\n",
       "      <td>AL</td>\n",
       "      <td>3.6601e+08</td>\n",
       "      <td>RETIRED</td>\n",
       "      <td>RETIRED</td>\n",
       "      <td>50.0</td>\n",
       "      <td>2011-06-23</td>\n",
       "      <td>736166</td>\n",
       "      <td>A899B9B0E223743EFA63</td>\n",
       "    </tr>\n",
       "  </tbody>\n",
       "</table>\n",
       "</div>"
      ],
      "text/plain": [
       "   Unnamed: 0    cmte_id    cand_id            cand_nm        contbr_nm  \\\n",
       "0           0  C00410118  P20002978  Bachmann, Michele  HARVEY, WILLIAM   \n",
       "1           1  C00410118  P20002978  Bachmann, Michele  HARVEY, WILLIAM   \n",
       "\n",
       "  contbr_city contbr_st  contbr_zip contbr_employer contbr_occupation  \\\n",
       "0      MOBILE        AL  3.6601e+08         RETIRED           RETIRED   \n",
       "1      MOBILE        AL  3.6601e+08         RETIRED           RETIRED   \n",
       "\n",
       "   contb_receipt_amt contb_receipt_dt  file_num               tran_id  \n",
       "0              250.0       2011-06-20    736166  A1FDABC23D2D545A1B83  \n",
       "1               50.0       2011-06-23    736166  A899B9B0E223743EFA63  "
      ]
     },
     "execution_count": 12,
     "metadata": {},
     "output_type": "execute_result"
    }
   ],
   "source": [
    "PCF.head(2)"
   ]
  },
  {
   "cell_type": "code",
   "execution_count": 13,
   "metadata": {},
   "outputs": [
    {
     "data": {
      "text/html": [
       "<div>\n",
       "<style scoped>\n",
       "    .dataframe tbody tr th:only-of-type {\n",
       "        vertical-align: middle;\n",
       "    }\n",
       "\n",
       "    .dataframe tbody tr th {\n",
       "        vertical-align: top;\n",
       "    }\n",
       "\n",
       "    .dataframe thead th {\n",
       "        text-align: right;\n",
       "    }\n",
       "</style>\n",
       "<table border=\"1\" class=\"dataframe\">\n",
       "  <thead>\n",
       "    <tr style=\"text-align: right;\">\n",
       "      <th></th>\n",
       "      <th>Unnamed: 0</th>\n",
       "      <th>contb_receipt_amt</th>\n",
       "      <th>file_num</th>\n",
       "    </tr>\n",
       "  </thead>\n",
       "  <tbody>\n",
       "    <tr>\n",
       "      <th>count</th>\n",
       "      <td>6.036458e+06</td>\n",
       "      <td>6.036458e+06</td>\n",
       "      <td>6.036458e+06</td>\n",
       "    </tr>\n",
       "    <tr>\n",
       "      <th>mean</th>\n",
       "      <td>3.018228e+06</td>\n",
       "      <td>2.129971e+02</td>\n",
       "      <td>8.314570e+05</td>\n",
       "    </tr>\n",
       "    <tr>\n",
       "      <th>std</th>\n",
       "      <td>1.742575e+06</td>\n",
       "      <td>8.957272e+03</td>\n",
       "      <td>4.466420e+04</td>\n",
       "    </tr>\n",
       "    <tr>\n",
       "      <th>min</th>\n",
       "      <td>0.000000e+00</td>\n",
       "      <td>-6.080000e+04</td>\n",
       "      <td>7.235110e+05</td>\n",
       "    </tr>\n",
       "    <tr>\n",
       "      <th>25%</th>\n",
       "      <td>1.509114e+06</td>\n",
       "      <td>2.500000e+01</td>\n",
       "      <td>8.106840e+05</td>\n",
       "    </tr>\n",
       "    <tr>\n",
       "      <th>50%</th>\n",
       "      <td>3.018228e+06</td>\n",
       "      <td>5.000000e+01</td>\n",
       "      <td>8.213250e+05</td>\n",
       "    </tr>\n",
       "    <tr>\n",
       "      <th>75%</th>\n",
       "      <td>4.527343e+06</td>\n",
       "      <td>1.500000e+02</td>\n",
       "      <td>8.429430e+05</td>\n",
       "    </tr>\n",
       "    <tr>\n",
       "      <th>max</th>\n",
       "      <td>6.036457e+06</td>\n",
       "      <td>1.638718e+07</td>\n",
       "      <td>9.927300e+05</td>\n",
       "    </tr>\n",
       "  </tbody>\n",
       "</table>\n",
       "</div>"
      ],
      "text/plain": [
       "         Unnamed: 0  contb_receipt_amt      file_num\n",
       "count  6.036458e+06       6.036458e+06  6.036458e+06\n",
       "mean   3.018228e+06       2.129971e+02  8.314570e+05\n",
       "std    1.742575e+06       8.957272e+03  4.466420e+04\n",
       "min    0.000000e+00      -6.080000e+04  7.235110e+05\n",
       "25%    1.509114e+06       2.500000e+01  8.106840e+05\n",
       "50%    3.018228e+06       5.000000e+01  8.213250e+05\n",
       "75%    4.527343e+06       1.500000e+02  8.429430e+05\n",
       "max    6.036457e+06       1.638718e+07  9.927300e+05"
      ]
     },
     "execution_count": 13,
     "metadata": {},
     "output_type": "execute_result"
    }
   ],
   "source": [
    "PCF.describe() \n",
    " "
   ]
  },
  {
   "cell_type": "code",
   "execution_count": 14,
   "metadata": {},
   "outputs": [
    {
     "data": {
      "text/plain": [
       "array(['Bachmann, Michele', 'Romney, Mitt', 'Obama, Barack',\n",
       "       \"Roemer, Charles E. 'Buddy' III\", 'Pawlenty, Timothy',\n",
       "       'Johnson, Gary Earl', 'Paul, Ron', 'Santorum, Rick',\n",
       "       'Cain, Herman', 'Gingrich, Newt', 'McCotter, Thaddeus G',\n",
       "       'Huntsman, Jon', 'Perry, Rick', 'Stein, Jill'], dtype=object)"
      ]
     },
     "execution_count": 14,
     "metadata": {},
     "output_type": "execute_result"
    }
   ],
   "source": [
    "#查看候选人名单\n",
    "PCF.cand_nm.unique()\n",
    " "
   ]
  },
  {
   "cell_type": "code",
   "execution_count": 15,
   "metadata": {},
   "outputs": [
    {
     "data": {
      "text/plain": [
       "(14,)"
      ]
     },
     "execution_count": 15,
     "metadata": {},
     "output_type": "execute_result"
    }
   ],
   "source": [
    "#计算候选人个数\n",
    "PCF.cand_nm.unique().shape"
   ]
  },
  {
   "cell_type": "code",
   "execution_count": 16,
   "metadata": {},
   "outputs": [
    {
     "data": {
      "text/plain": [
       "14"
      ]
     },
     "execution_count": 16,
     "metadata": {},
     "output_type": "execute_result"
    }
   ],
   "source": [
    "len(PCF.cand_nm.unique())"
   ]
  },
  {
   "cell_type": "code",
   "execution_count": 17,
   "metadata": {},
   "outputs": [
    {
     "data": {
      "text/plain": [
       "Unnamed: 0                             100000\n",
       "cmte_id                             C00431171\n",
       "cand_id                             P80003353\n",
       "cand_nm                          Romney, Mitt\n",
       "contbr_nm            GREENMAN, WILLIAM M. MR.\n",
       "contbr_city                         CUPERTINO\n",
       "contbr_st                                  CA\n",
       "contbr_zip                        9.50145e+08\n",
       "contbr_employer                       RETIRED\n",
       "contbr_occupation                     RETIRED\n",
       "contb_receipt_amt                        1000\n",
       "contb_receipt_dt          2012-07-31 00:00:00\n",
       "file_num                               821472\n",
       "tran_id                          SA17.1773888\n",
       "Name: 100000, dtype: object"
      ]
     },
     "execution_count": 17,
     "metadata": {},
     "output_type": "execute_result"
    }
   ],
   "source": [
    "PCF.iloc[100000]"
   ]
  },
  {
   "cell_type": "markdown",
   "metadata": {},
   "source": [
    "### （4） 数据加工"
   ]
  },
  {
   "cell_type": "markdown",
   "metadata": {},
   "source": [
    "#### 首先， 计算候选人名单"
   ]
  },
  {
   "cell_type": "code",
   "execution_count": 18,
   "metadata": {},
   "outputs": [
    {
     "data": {
      "text/plain": [
       "array(['Bachmann, Michele', 'Romney, Mitt', 'Obama, Barack',\n",
       "       \"Roemer, Charles E. 'Buddy' III\", 'Pawlenty, Timothy',\n",
       "       'Johnson, Gary Earl', 'Paul, Ron', 'Santorum, Rick',\n",
       "       'Cain, Herman', 'Gingrich, Newt', 'McCotter, Thaddeus G',\n",
       "       'Huntsman, Jon', 'Perry, Rick', 'Stein, Jill'], dtype=object)"
      ]
     },
     "execution_count": 18,
     "metadata": {},
     "output_type": "execute_result"
    }
   ],
   "source": [
    "unique_cands = PCF.cand_nm.unique()\n",
    "     \n",
    "unique_cands"
   ]
  },
  {
   "cell_type": "code",
   "execution_count": 19,
   "metadata": {},
   "outputs": [
    {
     "data": {
      "text/plain": [
       "(14,)"
      ]
     },
     "execution_count": 19,
     "metadata": {},
     "output_type": "execute_result"
    }
   ],
   "source": [
    "unique_cands.shape\n",
    "   "
   ]
  },
  {
   "cell_type": "markdown",
   "metadata": {},
   "source": [
    "#### 其次， 抽取Obama和Romney的数据"
   ]
  },
  {
   "cell_type": "code",
   "execution_count": 20,
   "metadata": {},
   "outputs": [
    {
     "data": {
      "text/html": [
       "<div>\n",
       "<style scoped>\n",
       "    .dataframe tbody tr th:only-of-type {\n",
       "        vertical-align: middle;\n",
       "    }\n",
       "\n",
       "    .dataframe tbody tr th {\n",
       "        vertical-align: top;\n",
       "    }\n",
       "\n",
       "    .dataframe thead th {\n",
       "        text-align: right;\n",
       "    }\n",
       "</style>\n",
       "<table border=\"1\" class=\"dataframe\">\n",
       "  <thead>\n",
       "    <tr style=\"text-align: right;\">\n",
       "      <th></th>\n",
       "      <th>Unnamed: 0</th>\n",
       "      <th>cmte_id</th>\n",
       "      <th>cand_id</th>\n",
       "      <th>cand_nm</th>\n",
       "      <th>contbr_nm</th>\n",
       "      <th>contbr_city</th>\n",
       "      <th>contbr_st</th>\n",
       "      <th>contbr_zip</th>\n",
       "      <th>contbr_employer</th>\n",
       "      <th>contbr_occupation</th>\n",
       "      <th>contb_receipt_amt</th>\n",
       "      <th>contb_receipt_dt</th>\n",
       "      <th>file_num</th>\n",
       "      <th>tran_id</th>\n",
       "    </tr>\n",
       "  </thead>\n",
       "  <tbody>\n",
       "    <tr>\n",
       "      <th>411</th>\n",
       "      <td>411</td>\n",
       "      <td>C00431171</td>\n",
       "      <td>P80003353</td>\n",
       "      <td>Romney, Mitt</td>\n",
       "      <td>CLARK, MICHAEL</td>\n",
       "      <td>FORT MEYERS</td>\n",
       "      <td>33</td>\n",
       "      <td>33908</td>\n",
       "      <td>RETIRED</td>\n",
       "      <td>NONE</td>\n",
       "      <td>200.0</td>\n",
       "      <td>2012-09-21</td>\n",
       "      <td>822044</td>\n",
       "      <td>SA17.2726391</td>\n",
       "    </tr>\n",
       "    <tr>\n",
       "      <th>412</th>\n",
       "      <td>412</td>\n",
       "      <td>C00431171</td>\n",
       "      <td>P80003353</td>\n",
       "      <td>Romney, Mitt</td>\n",
       "      <td>CALIENES, GLADYS MS.</td>\n",
       "      <td>GABLES</td>\n",
       "      <td>33</td>\n",
       "      <td>33146</td>\n",
       "      <td>INFORMATION REQUESTED PER BEST EFFORTS</td>\n",
       "      <td>INFORMATION REQUESTED PER BEST EFFORTS</td>\n",
       "      <td>100.0</td>\n",
       "      <td>2012-09-12</td>\n",
       "      <td>822044</td>\n",
       "      <td>SA17.2588087</td>\n",
       "    </tr>\n",
       "  </tbody>\n",
       "</table>\n",
       "</div>"
      ],
      "text/plain": [
       "     Unnamed: 0    cmte_id    cand_id       cand_nm             contbr_nm  \\\n",
       "411         411  C00431171  P80003353  Romney, Mitt        CLARK, MICHAEL   \n",
       "412         412  C00431171  P80003353  Romney, Mitt  CALIENES, GLADYS MS.   \n",
       "\n",
       "     contbr_city contbr_st contbr_zip                         contbr_employer  \\\n",
       "411  FORT MEYERS        33      33908                                 RETIRED   \n",
       "412       GABLES        33      33146  INFORMATION REQUESTED PER BEST EFFORTS   \n",
       "\n",
       "                          contbr_occupation  contb_receipt_amt  \\\n",
       "411                                    NONE              200.0   \n",
       "412  INFORMATION REQUESTED PER BEST EFFORTS              100.0   \n",
       "\n",
       "    contb_receipt_dt  file_num       tran_id  \n",
       "411       2012-09-21    822044  SA17.2726391  \n",
       "412       2012-09-12    822044  SA17.2588087  "
      ]
     },
     "execution_count": 20,
     "metadata": {},
     "output_type": "execute_result"
    }
   ],
   "source": [
    "#抽取Obama和Romney的数据\n",
    "PCF_ObamaAndRomney = PCF[PCF.cand_nm.isin(['Obama, Barack', 'Romney, Mitt'])]\n",
    "    \n",
    "    \n",
    "PCF_ObamaAndRomney.head(2) "
   ]
  },
  {
   "cell_type": "code",
   "execution_count": 21,
   "metadata": {},
   "outputs": [
    {
     "name": "stdout",
     "output_type": "stream",
     "text": [
      "<class 'pandas.core.frame.DataFrame'>\n",
      "Int64Index: 5711090 entries, 411 to 5711500\n",
      "Data columns (total 14 columns):\n",
      "Unnamed: 0           int64\n",
      "cmte_id              object\n",
      "cand_id              object\n",
      "cand_nm              object\n",
      "contbr_nm            object\n",
      "contbr_city          object\n",
      "contbr_st            object\n",
      "contbr_zip           object\n",
      "contbr_employer      object\n",
      "contbr_occupation    object\n",
      "contb_receipt_amt    float64\n",
      "contb_receipt_dt     datetime64[ns]\n",
      "file_num             int64\n",
      "tran_id              object\n",
      "dtypes: datetime64[ns](1), float64(1), int64(2), object(10)\n",
      "memory usage: 653.6+ MB\n"
     ]
    }
   ],
   "source": [
    "PCF_ObamaAndRomney.info()"
   ]
  },
  {
   "cell_type": "code",
   "execution_count": 22,
   "metadata": {},
   "outputs": [
    {
     "data": {
      "text/plain": [
       "Obama, Barack    4117404\n",
       "Romney, Mitt     1593686\n",
       "Name: cand_nm, dtype: int64"
      ]
     },
     "execution_count": 22,
     "metadata": {},
     "output_type": "execute_result"
    }
   ],
   "source": [
    "PCF_ObamaAndRomney.cand_nm.value_counts()\n",
    " \n",
    "    "
   ]
  },
  {
   "cell_type": "markdown",
   "metadata": {},
   "source": [
    "#### 最后， 补充党派信息"
   ]
  },
  {
   "cell_type": "code",
   "execution_count": 23,
   "metadata": {},
   "outputs": [],
   "source": [
    "parties = { 'Obama, Barack': '民主党（Democrat）',\n",
    "           'Romney, Mitt': '共和党（Republican）'\n",
    "          }"
   ]
  },
  {
   "cell_type": "code",
   "execution_count": 24,
   "metadata": {},
   "outputs": [
    {
     "name": "stderr",
     "output_type": "stream",
     "text": [
      "C:\\Anaconda\\lib\\site-packages\\ipykernel_launcher.py:2: SettingWithCopyWarning: \n",
      "A value is trying to be set on a copy of a slice from a DataFrame.\n",
      "Try using .loc[row_indexer,col_indexer] = value instead\n",
      "\n",
      "See the caveats in the documentation: http://pandas.pydata.org/pandas-docs/stable/indexing.html#indexing-view-versus-copy\n",
      "  \n"
     ]
    },
    {
     "data": {
      "text/plain": [
       "民主党（Democrat）      4117404\n",
       "共和党（Republican）    1593686\n",
       "Name: party, dtype: int64"
      ]
     },
     "execution_count": 24,
     "metadata": {},
     "output_type": "execute_result"
    }
   ],
   "source": [
    "# 新增名为party的一列，将用map函数将【姓名】映射（替换）为【党派信息】写入此列中\n",
    "PCF_ObamaAndRomney['party'] = PCF_ObamaAndRomney.cand_nm.map(parties)\n",
    " \n",
    "PCF_ObamaAndRomney['party'].value_counts() #个数统计\n",
    " "
   ]
  },
  {
   "cell_type": "code",
   "execution_count": 25,
   "metadata": {},
   "outputs": [
    {
     "name": "stdout",
     "output_type": "stream",
     "text": [
      "<class 'pandas.core.frame.DataFrame'>\n",
      "Int64Index: 5711090 entries, 411 to 5711500\n",
      "Data columns (total 15 columns):\n",
      "Unnamed: 0           int64\n",
      "cmte_id              object\n",
      "cand_id              object\n",
      "cand_nm              object\n",
      "contbr_nm            object\n",
      "contbr_city          object\n",
      "contbr_st            object\n",
      "contbr_zip           object\n",
      "contbr_employer      object\n",
      "contbr_occupation    object\n",
      "contb_receipt_amt    float64\n",
      "contb_receipt_dt     datetime64[ns]\n",
      "file_num             int64\n",
      "tran_id              object\n",
      "party                object\n",
      "dtypes: datetime64[ns](1), float64(1), int64(2), object(11)\n",
      "memory usage: 697.2+ MB\n"
     ]
    }
   ],
   "source": [
    "PCF_ObamaAndRomney.info()  "
   ]
  },
  {
   "cell_type": "code",
   "execution_count": 26,
   "metadata": {},
   "outputs": [
    {
     "data": {
      "text/html": [
       "<div>\n",
       "<style scoped>\n",
       "    .dataframe tbody tr th:only-of-type {\n",
       "        vertical-align: middle;\n",
       "    }\n",
       "\n",
       "    .dataframe tbody tr th {\n",
       "        vertical-align: top;\n",
       "    }\n",
       "\n",
       "    .dataframe thead th {\n",
       "        text-align: right;\n",
       "    }\n",
       "</style>\n",
       "<table border=\"1\" class=\"dataframe\">\n",
       "  <thead>\n",
       "    <tr style=\"text-align: right;\">\n",
       "      <th></th>\n",
       "      <th>Unnamed: 0</th>\n",
       "      <th>cmte_id</th>\n",
       "      <th>cand_id</th>\n",
       "      <th>cand_nm</th>\n",
       "      <th>contbr_nm</th>\n",
       "      <th>contbr_city</th>\n",
       "      <th>contbr_st</th>\n",
       "      <th>contbr_zip</th>\n",
       "      <th>contbr_employer</th>\n",
       "      <th>contbr_occupation</th>\n",
       "      <th>contb_receipt_amt</th>\n",
       "      <th>contb_receipt_dt</th>\n",
       "      <th>file_num</th>\n",
       "      <th>tran_id</th>\n",
       "      <th>party</th>\n",
       "    </tr>\n",
       "  </thead>\n",
       "  <tbody>\n",
       "    <tr>\n",
       "      <th>1792</th>\n",
       "      <td>1792</td>\n",
       "      <td>C00431171</td>\n",
       "      <td>P80003353</td>\n",
       "      <td>Romney, Mitt</td>\n",
       "      <td>MORTENSEN, ROBERT DR.</td>\n",
       "      <td>EABLE RNEE</td>\n",
       "      <td>AK</td>\n",
       "      <td>9.95779e+08</td>\n",
       "      <td>VETERANS ADMINISTRATION</td>\n",
       "      <td>DENTIST</td>\n",
       "      <td>-500.0</td>\n",
       "      <td>2012-05-22</td>\n",
       "      <td>944813</td>\n",
       "      <td>SA17.974299B</td>\n",
       "      <td>共和党（Republican）</td>\n",
       "    </tr>\n",
       "    <tr>\n",
       "      <th>2027</th>\n",
       "      <td>2027</td>\n",
       "      <td>C00431171</td>\n",
       "      <td>P80003353</td>\n",
       "      <td>Romney, Mitt</td>\n",
       "      <td>JOHNSON, MARK K. MR.</td>\n",
       "      <td>ANCHORAGE</td>\n",
       "      <td>AK</td>\n",
       "      <td>9.95163e+08</td>\n",
       "      <td>CHUGACH ELECTRIC ASSOCIATION INC.</td>\n",
       "      <td>ATTORNEY</td>\n",
       "      <td>-500.0</td>\n",
       "      <td>2012-07-30</td>\n",
       "      <td>944286</td>\n",
       "      <td>SA17.1085175B</td>\n",
       "      <td>共和党（Republican）</td>\n",
       "    </tr>\n",
       "  </tbody>\n",
       "</table>\n",
       "</div>"
      ],
      "text/plain": [
       "      Unnamed: 0    cmte_id    cand_id       cand_nm              contbr_nm  \\\n",
       "1792        1792  C00431171  P80003353  Romney, Mitt  MORTENSEN, ROBERT DR.   \n",
       "2027        2027  C00431171  P80003353  Romney, Mitt   JOHNSON, MARK K. MR.   \n",
       "\n",
       "     contbr_city contbr_st   contbr_zip                    contbr_employer  \\\n",
       "1792  EABLE RNEE        AK  9.95779e+08            VETERANS ADMINISTRATION   \n",
       "2027   ANCHORAGE        AK  9.95163e+08  CHUGACH ELECTRIC ASSOCIATION INC.   \n",
       "\n",
       "     contbr_occupation  contb_receipt_amt contb_receipt_dt  file_num  \\\n",
       "1792           DENTIST             -500.0       2012-05-22    944813   \n",
       "2027          ATTORNEY             -500.0       2012-07-30    944286   \n",
       "\n",
       "            tran_id            party  \n",
       "1792   SA17.974299B  共和党（Republican）  \n",
       "2027  SA17.1085175B  共和党（Republican）  "
      ]
     },
     "execution_count": 26,
     "metadata": {},
     "output_type": "execute_result"
    }
   ],
   "source": [
    "#查看捐助金额/contb_receipt_amt，从以下结果可以看出，有负有正\n",
    "   \n",
    "PCF_ObamaAndRomney[PCF_ObamaAndRomney.contb_receipt_amt<0][:2]"
   ]
  },
  {
   "cell_type": "code",
   "execution_count": 27,
   "metadata": {},
   "outputs": [
    {
     "data": {
      "text/plain": [
       "True     5655423\n",
       "False      55667\n",
       "Name: contb_receipt_amt, dtype: int64"
      ]
     },
     "execution_count": 27,
     "metadata": {},
     "output_type": "execute_result"
    }
   ],
   "source": [
    "#看看有多少个正的，多少个负的，负数表示的是【退款】\n",
    "(PCF_ObamaAndRomney.contb_receipt_amt > 0).value_counts()\n",
    "\n",
    "   \n",
    "    "
   ]
  },
  {
   "cell_type": "code",
   "execution_count": 28,
   "metadata": {},
   "outputs": [
    {
     "data": {
      "text/plain": [
       "pandas.core.series.Series"
      ]
     },
     "execution_count": 28,
     "metadata": {},
     "output_type": "execute_result"
    }
   ],
   "source": [
    "type(PCF_ObamaAndRomney.contb_receipt_amt)\n",
    " "
   ]
  },
  {
   "cell_type": "markdown",
   "metadata": {},
   "source": [
    "### （5） Obama和Romney数据分析"
   ]
  },
  {
   "cell_type": "markdown",
   "metadata": {},
   "source": [
    "#### 首先， 捐助人的职业分析"
   ]
  },
  {
   "cell_type": "code",
   "execution_count": 30,
   "metadata": {},
   "outputs": [
    {
     "data": {
      "text/plain": [
       "(134098,)"
      ]
     },
     "execution_count": 30,
     "metadata": {},
     "output_type": "execute_result"
    }
   ],
   "source": [
    "#捐助人职业数量\n",
    "PCF_ObamaAndRomney.contbr_occupation.unique().shape"
   ]
  },
  {
   "cell_type": "code",
   "execution_count": 31,
   "metadata": {},
   "outputs": [
    {
     "data": {
      "text/plain": [
       "RETIRED                                   1325543\n",
       "ATTORNEY                                   191344\n",
       "INFORMATION REQUESTED PER BEST EFFORTS     163762\n",
       "HOMEMAKER                                  143440\n",
       "PHYSICIAN                                  134701\n",
       "INFORMATION REQUESTED                      114942\n",
       "TEACHER                                    102886\n",
       "PROFESSOR                                   95542\n",
       "CONSULTANT                                  76967\n",
       "ENGINEER                                    66894\n",
       "NOT EMPLOYED                                57331\n",
       "NONE                                        48862\n",
       "MANAGER                                     47420\n",
       "LAWYER                                      46928\n",
       "SALES                                       46392\n",
       "SELF-EMPLOYED                               44296\n",
       "PRESIDENT                                   33237\n",
       "WRITER                                      31656\n",
       "OWNER                                       27163\n",
       "STUDENT                                     25804\n",
       "EXECUTIVE                                   25792\n",
       "ACCOUNTANT                                  24264\n",
       "RN                                          23387\n",
       "BUSINESS OWNER                              23382\n",
       "EDUCATOR                                    23245\n",
       "ARTIST                                      22566\n",
       "SOFTWARE ENGINEER                           22464\n",
       "REGISTERED NURSE                            22389\n",
       "PSYCHOLOGIST                                19750\n",
       "CEO                                         19460\n",
       "                                           ...   \n",
       "PRODCUER                                        1\n",
       "EPIDEMIOLOGIST/RESEARCHER                       1\n",
       "REALTOR-DEVELOPER                               1\n",
       "SARA HURD                                       1\n",
       "SENIOR STRUCTURAL DESIGNER                      1\n",
       "CHIEF SCHOOL BUSINESS OFFICIAL                  1\n",
       "MECHANICAL ADMIN. SUPERINTENDENT                1\n",
       "SENIOR LECTURER IN PHYSICS                      1\n",
       "BOARD FAMILY OWNED COMPANY                      1\n",
       "MH PROVIDER.                                    1\n",
       "SCIENTIFIST                                     1\n",
       "PHILIP J EVICH                                  1\n",
       "ADMINISTRATIVE ASSISTANT FOR CALENDAR           1\n",
       "SENIOR LEGISLATIVE ASSISTANT FOR DAVID          1\n",
       "HUMAN RESOURCES MNG                             1\n",
       "CONSULTANT, BUSINESS DEVELOPMENT                1\n",
       "FINANCIAL SEC                                   1\n",
       "REACHOUT HEALTHCARE                             1\n",
       "LOCKHEED MARTIN                                 1\n",
       "ORTHOPEDIST / HOMEMAKER                         1\n",
       "RESEARCH PROJECT MANAGER - PA HOUSE D'          1\n",
       "STORAGE ADMINISTRATOR                           1\n",
       "ENGINEER/ MECHANICAL CONTRACTOR                 1\n",
       "VETERINARY HOSPITAL OWNER                       1\n",
       "PUYCH TECH                                      1\n",
       "SENIOR PRODUCT CONSULTANT                       1\n",
       "DISTRICT MARKETING DIRECTOR                     1\n",
       "U.S.A.F.                                        1\n",
       "OWENR/ENTREPENEUR/MARKETING EXEC                1\n",
       "TEXTILE BROKER                                  1\n",
       "Name: contbr_occupation, Length: 134097, dtype: int64"
      ]
     },
     "execution_count": 31,
     "metadata": {},
     "output_type": "execute_result"
    }
   ],
   "source": [
    "#捐助人职业分布\n",
    "PCF_ObamaAndRomney.contbr_occupation.value_counts()"
   ]
  },
  {
   "cell_type": "code",
   "execution_count": 32,
   "metadata": {},
   "outputs": [
    {
     "name": "stderr",
     "output_type": "stream",
     "text": [
      "C:\\Anaconda\\lib\\site-packages\\pandas\\core\\generic.py:5096: SettingWithCopyWarning: \n",
      "A value is trying to be set on a copy of a slice from a DataFrame.\n",
      "Try using .loc[row_indexer,col_indexer] = value instead\n",
      "\n",
      "See the caveats in the documentation: http://pandas.pydata.org/pandas-docs/stable/indexing.html#indexing-view-versus-copy\n",
      "  self[name] = value\n"
     ]
    }
   ],
   "source": [
    "occ_mapping = {\n",
    "   'INFORMATION REQUESTED PER BEST EFFORTS' : 'NOT PROVIDED',\n",
    "   'INFORMATION REQUESTED' : 'NOT PROVIDED',\n",
    "   'INFORMATION REQUESTED (BEST EFFORTS)' : 'NOT PROVIDED',\n",
    "   'C.E.O.': 'CEO'\n",
    "}\n",
    "\n",
    " \n",
    "f = lambda x: occ_mapping.get(x, x)\n",
    "PCF_ObamaAndRomney.contbr_occupation =PCF_ObamaAndRomney.contbr_occupation.map(f)"
   ]
  },
  {
   "cell_type": "code",
   "execution_count": 33,
   "metadata": {},
   "outputs": [],
   "source": [
    "emp_mapping = {\n",
    "   'INFORMATION REQUESTED PER BEST EFFORTS' : 'NOT PROVIDED',\n",
    "   'INFORMATION REQUESTED' : 'NOT PROVIDED',\n",
    "   'SELF' : 'SELF-EMPLOYED',\n",
    "   'SELF EMPLOYED' : 'SELF-EMPLOYED',\n",
    "}\n",
    "\n",
    " \n",
    "f = lambda x: emp_mapping.get(x, x)\n",
    "PCF_ObamaAndRomney.contbr_employer =PCF_ObamaAndRomney.contbr_employer.map(f)"
   ]
  },
  {
   "cell_type": "code",
   "execution_count": 34,
   "metadata": {},
   "outputs": [
    {
     "data": {
      "text/html": [
       "<div>\n",
       "<style scoped>\n",
       "    .dataframe tbody tr th:only-of-type {\n",
       "        vertical-align: middle;\n",
       "    }\n",
       "\n",
       "    .dataframe tbody tr th {\n",
       "        vertical-align: top;\n",
       "    }\n",
       "\n",
       "    .dataframe thead th {\n",
       "        text-align: right;\n",
       "    }\n",
       "</style>\n",
       "<table border=\"1\" class=\"dataframe\">\n",
       "  <thead>\n",
       "    <tr style=\"text-align: right;\">\n",
       "      <th>party</th>\n",
       "      <th>共和党（Republican）</th>\n",
       "      <th>民主党（Democrat）</th>\n",
       "    </tr>\n",
       "    <tr>\n",
       "      <th>contbr_occupation</th>\n",
       "      <th></th>\n",
       "      <th></th>\n",
       "    </tr>\n",
       "  </thead>\n",
       "  <tbody>\n",
       "    <tr>\n",
       "      <th>ATTORNEY</th>\n",
       "      <td>2.662006e+07</td>\n",
       "      <td>34152434.63</td>\n",
       "    </tr>\n",
       "    <tr>\n",
       "      <th>CEO</th>\n",
       "      <td>1.373254e+07</td>\n",
       "      <td>4047006.86</td>\n",
       "    </tr>\n",
       "    <tr>\n",
       "      <th>CONSULTANT</th>\n",
       "      <td>8.880296e+06</td>\n",
       "      <td>8996120.22</td>\n",
       "    </tr>\n",
       "    <tr>\n",
       "      <th>ENGINEER</th>\n",
       "      <td>6.187283e+06</td>\n",
       "      <td>4978404.36</td>\n",
       "    </tr>\n",
       "    <tr>\n",
       "      <th>EXECUTIVE</th>\n",
       "      <td>1.412981e+07</td>\n",
       "      <td>3541459.12</td>\n",
       "    </tr>\n",
       "    <tr>\n",
       "      <th>HOMEMAKER</th>\n",
       "      <td>4.317627e+07</td>\n",
       "      <td>12223045.34</td>\n",
       "    </tr>\n",
       "    <tr>\n",
       "      <th>LAWYER</th>\n",
       "      <td>2.915531e+06</td>\n",
       "      <td>10511478.08</td>\n",
       "    </tr>\n",
       "    <tr>\n",
       "      <th>NONE</th>\n",
       "      <td>1.199093e+07</td>\n",
       "      <td>58493.92</td>\n",
       "    </tr>\n",
       "    <tr>\n",
       "      <th>NOT PROVIDED</th>\n",
       "      <td>7.902636e+07</td>\n",
       "      <td>20828202.50</td>\n",
       "    </tr>\n",
       "    <tr>\n",
       "      <th>PHYSICIAN</th>\n",
       "      <td>1.938542e+07</td>\n",
       "      <td>15797840.12</td>\n",
       "    </tr>\n",
       "    <tr>\n",
       "      <th>PRESIDENT</th>\n",
       "      <td>1.489282e+07</td>\n",
       "      <td>4216339.26</td>\n",
       "    </tr>\n",
       "    <tr>\n",
       "      <th>PROFESSOR</th>\n",
       "      <td>1.241684e+06</td>\n",
       "      <td>11746164.25</td>\n",
       "    </tr>\n",
       "    <tr>\n",
       "      <th>RETIRED</th>\n",
       "      <td>1.172347e+08</td>\n",
       "      <td>98118671.10</td>\n",
       "    </tr>\n",
       "    <tr>\n",
       "      <th>SELF-EMPLOYED</th>\n",
       "      <td>1.101001e+07</td>\n",
       "      <td>2393698.26</td>\n",
       "    </tr>\n",
       "  </tbody>\n",
       "</table>\n",
       "</div>"
      ],
      "text/plain": [
       "party              共和党（Republican）  民主党（Democrat）\n",
       "contbr_occupation                                \n",
       "ATTORNEY              2.662006e+07    34152434.63\n",
       "CEO                   1.373254e+07     4047006.86\n",
       "CONSULTANT            8.880296e+06     8996120.22\n",
       "ENGINEER              6.187283e+06     4978404.36\n",
       "EXECUTIVE             1.412981e+07     3541459.12\n",
       "HOMEMAKER             4.317627e+07    12223045.34\n",
       "LAWYER                2.915531e+06    10511478.08\n",
       "NONE                  1.199093e+07       58493.92\n",
       "NOT PROVIDED          7.902636e+07    20828202.50\n",
       "PHYSICIAN             1.938542e+07    15797840.12\n",
       "PRESIDENT             1.489282e+07     4216339.26\n",
       "PROFESSOR             1.241684e+06    11746164.25\n",
       "RETIRED               1.172347e+08    98118671.10\n",
       "SELF-EMPLOYED         1.101001e+07     2393698.26"
      ]
     },
     "execution_count": 34,
     "metadata": {},
     "output_type": "execute_result"
    }
   ],
   "source": [
    " \n",
    "by_occupation = PCF_ObamaAndRomney.pivot_table('contb_receipt_amt',\n",
    "                                index='contbr_occupation',\n",
    "                                columns='party', \n",
    "                                aggfunc='sum')\n",
    "over_2mm = by_occupation[by_occupation.sum(1) > 10000000]\n",
    "over_2mm\n",
    " "
   ]
  },
  {
   "cell_type": "code",
   "execution_count": 35,
   "metadata": {},
   "outputs": [
    {
     "data": {
      "text/plain": [
       "<Figure size 640x480 with 0 Axes>"
      ]
     },
     "execution_count": 35,
     "metadata": {},
     "output_type": "execute_result"
    }
   ],
   "source": [
    "#可视化\n",
    "import matplotlib.pyplot as plt\n",
    "#%matplotlib inline\n",
    "plt.figure()  "
   ]
  },
  {
   "cell_type": "code",
   "execution_count": 36,
   "metadata": {},
   "outputs": [
    {
     "data": {
      "text/plain": [
       "<matplotlib.axes._subplots.AxesSubplot at 0x2415a121208>"
      ]
     },
     "execution_count": 36,
     "metadata": {},
     "output_type": "execute_result"
    },
    {
     "data": {
      "image/png": "[encoded data removed]",
      "text/plain": [
       "<Figure size 432x288 with 1 Axes>"
      ]
     },
     "metadata": {
      "needs_background": "light"
     },
     "output_type": "display_data"
    }
   ],
   "source": [
    "plt.rcParams['font.family']=\"SimHei\" \n",
    "over_2mm.plot(kind='barh')"
   ]
  },
  {
   "cell_type": "code",
   "execution_count": 37,
   "metadata": {},
   "outputs": [],
   "source": [
    "def get_top_amounts(group, key, n=3):\n",
    "    totals = group.groupby(key)['contb_receipt_amt'].sum()\n",
    "    return totals.nlargest(n)\n",
    "     "
   ]
  },
  {
   "cell_type": "code",
   "execution_count": 38,
   "metadata": {
    "scrolled": true
   },
   "outputs": [
    {
     "data": {
      "text/plain": [
       "cand_nm        contbr_employer\n",
       "Obama, Barack  RETIRED            7.952238e+07\n",
       "               SELF-EMPLOYED      7.084357e+07\n",
       "               NOT EMPLOYED       4.216194e+07\n",
       "               NOT PROVIDED       2.234798e+07\n",
       "               HOMEMAKER          5.380229e+06\n",
       "               STUDENT            7.757287e+05\n",
       "               REFUSED            7.598655e+05\n",
       "               MICROSOFT          6.677732e+05\n",
       "               IBM                6.293782e+05\n",
       "               GOOGLE             6.256259e+05\n",
       "Romney, Mitt   RETIRED            1.149723e+08\n",
       "               NOT PROVIDED       8.394155e+07\n",
       "               SELF-EMPLOYED      6.502492e+07\n",
       "               HOMEMAKER          4.259132e+07\n",
       "               NONE               1.521782e+07\n",
       "               ENTREPRENEUR       1.791544e+06\n",
       "               STUDENT            1.530936e+06\n",
       "               MORGAN STANLEY     9.773291e+05\n",
       "               CREDIT SUISSE      8.491280e+05\n",
       "               MERRILL LYNCH      6.016347e+05\n",
       "Name: contb_receipt_amt, dtype: float64"
      ]
     },
     "execution_count": 38,
     "metadata": {},
     "output_type": "execute_result"
    }
   ],
   "source": [
    "grouped = PCF_ObamaAndRomney.groupby('cand_nm')\n",
    "grouped.apply(get_top_amounts, 'contbr_occupation', n=10)\n",
    "grouped.apply(get_top_amounts, 'contbr_employer', n=10)"
   ]
  },
  {
   "cell_type": "markdown",
   "metadata": {},
   "source": [
    "#### 其次， 捐助金额分析 Bucketing Donation Amounts"
   ]
  },
  {
   "cell_type": "code",
   "execution_count": 39,
   "metadata": {},
   "outputs": [
    {
     "data": {
      "text/plain": [
       "411    (100, 1000]\n",
       "412      (10, 100]\n",
       "413    (100, 1000]\n",
       "414    (100, 1000]\n",
       "415    (100, 1000]\n",
       "416    (100, 1000]\n",
       "417      (10, 100]\n",
       "418    (100, 1000]\n",
       "419    (100, 1000]\n",
       "420      (10, 100]\n",
       "Name: contb_receipt_amt, dtype: category\n",
       "Categories (8, interval[int64]): [(0, 1] < (1, 10] < (10, 100] < (100, 1000] < (1000, 10000] < (10000, 100000] < (100000, 1000000] < (1000000, 10000000]]"
      ]
     },
     "execution_count": 39,
     "metadata": {},
     "output_type": "execute_result"
    }
   ],
   "source": [
    "import numpy as np\n",
    "bins = np.array([0, 1, 10, 100, 1000, 10000,\n",
    "                 100000, 1000000, 10000000])\n",
    "labels = pd.cut(PCF_ObamaAndRomney.contb_receipt_amt, bins)\n",
    "labels[:10]\n",
    "    "
   ]
  },
  {
   "cell_type": "code",
   "execution_count": 40,
   "metadata": {},
   "outputs": [
    {
     "data": {
      "text/html": [
       "<div>\n",
       "<style scoped>\n",
       "    .dataframe tbody tr th:only-of-type {\n",
       "        vertical-align: middle;\n",
       "    }\n",
       "\n",
       "    .dataframe tbody tr th {\n",
       "        vertical-align: top;\n",
       "    }\n",
       "\n",
       "    .dataframe thead th {\n",
       "        text-align: right;\n",
       "    }\n",
       "</style>\n",
       "<table border=\"1\" class=\"dataframe\">\n",
       "  <thead>\n",
       "    <tr style=\"text-align: right;\">\n",
       "      <th>cand_nm</th>\n",
       "      <th>Obama, Barack</th>\n",
       "      <th>Romney, Mitt</th>\n",
       "    </tr>\n",
       "    <tr>\n",
       "      <th>contb_receipt_amt</th>\n",
       "      <th></th>\n",
       "      <th></th>\n",
       "    </tr>\n",
       "  </thead>\n",
       "  <tbody>\n",
       "    <tr>\n",
       "      <th>(0, 1]</th>\n",
       "      <td>1199.0</td>\n",
       "      <td>582.0</td>\n",
       "    </tr>\n",
       "    <tr>\n",
       "      <th>(1, 10]</th>\n",
       "      <td>402595.0</td>\n",
       "      <td>38335.0</td>\n",
       "    </tr>\n",
       "    <tr>\n",
       "      <th>(10, 100]</th>\n",
       "      <td>2970577.0</td>\n",
       "      <td>749228.0</td>\n",
       "    </tr>\n",
       "    <tr>\n",
       "      <th>(100, 1000]</th>\n",
       "      <td>651166.0</td>\n",
       "      <td>633364.0</td>\n",
       "    </tr>\n",
       "    <tr>\n",
       "      <th>(1000, 10000]</th>\n",
       "      <td>53379.0</td>\n",
       "      <td>154963.0</td>\n",
       "    </tr>\n",
       "    <tr>\n",
       "      <th>(10000, 100000]</th>\n",
       "      <td>7.0</td>\n",
       "      <td>6.0</td>\n",
       "    </tr>\n",
       "    <tr>\n",
       "      <th>(100000, 1000000]</th>\n",
       "      <td>4.0</td>\n",
       "      <td>NaN</td>\n",
       "    </tr>\n",
       "    <tr>\n",
       "      <th>(1000000, 10000000]</th>\n",
       "      <td>17.0</td>\n",
       "      <td>NaN</td>\n",
       "    </tr>\n",
       "  </tbody>\n",
       "</table>\n",
       "</div>"
      ],
      "text/plain": [
       "cand_nm              Obama, Barack  Romney, Mitt\n",
       "contb_receipt_amt                               \n",
       "(0, 1]                      1199.0         582.0\n",
       "(1, 10]                   402595.0       38335.0\n",
       "(10, 100]                2970577.0      749228.0\n",
       "(100, 1000]               651166.0      633364.0\n",
       "(1000, 10000]              53379.0      154963.0\n",
       "(10000, 100000]                7.0           6.0\n",
       "(100000, 1000000]              4.0           NaN\n",
       "(1000000, 10000000]           17.0           NaN"
      ]
     },
     "execution_count": 40,
     "metadata": {},
     "output_type": "execute_result"
    }
   ],
   "source": [
    "grouped = PCF_ObamaAndRomney.groupby(['cand_nm', labels])\n",
    "grouped.size().unstack(0)\n",
    " "
   ]
  },
  {
   "cell_type": "code",
   "execution_count": 41,
   "metadata": {},
   "outputs": [],
   "source": [
    "#plt.figure()"
   ]
  },
  {
   "cell_type": "code",
   "execution_count": 42,
   "metadata": {},
   "outputs": [
    {
     "data": {
      "text/plain": [
       "<matplotlib.axes._subplots.AxesSubplot at 0x2415a6f8fd0>"
      ]
     },
     "execution_count": 42,
     "metadata": {},
     "output_type": "execute_result"
    },
    {
     "data": {
      "image/png": "[encoded data removed]",
      "text/plain": [
       "<Figure size 432x288 with 1 Axes>"
      ]
     },
     "metadata": {
      "needs_background": "light"
     },
     "output_type": "display_data"
    }
   ],
   "source": [
    "bucket_sums = grouped.contb_receipt_amt.sum().unstack(0)\n",
    "normed_sums = bucket_sums.div(bucket_sums.sum(axis=1), axis=0)\n",
    "normed_sums\n",
    "normed_sums[:-2].plot(kind='barh')"
   ]
  },
  {
   "cell_type": "markdown",
   "metadata": {},
   "source": [
    "#### 接着，捐助时间分析"
   ]
  },
  {
   "cell_type": "code",
   "execution_count": 43,
   "metadata": {},
   "outputs": [],
   "source": [
    "#合并【同日】的捐款数据\n",
    "Romney = PCF_ObamaAndRomney[PCF_ObamaAndRomney.cand_nm=='Romney, Mitt'].groupby(\"contb_receipt_dt\")[\"contb_receipt_amt\"].sum()\n",
    "Obama = PCF_ObamaAndRomney[PCF_ObamaAndRomney.cand_nm=='Obama, Barack'].groupby(\"contb_receipt_dt\")[\"contb_receipt_amt\"].sum()\n",
    "   \n",
    "BothofThem=PCF_ObamaAndRomney.groupby(\"contb_receipt_dt\")[\"contb_receipt_amt\"].sum()"
   ]
  },
  {
   "cell_type": "code",
   "execution_count": 44,
   "metadata": {},
   "outputs": [
    {
     "data": {
      "text/plain": [
       "numpy.ndarray"
      ]
     },
     "execution_count": 44,
     "metadata": {},
     "output_type": "execute_result"
    }
   ],
   "source": [
    "#试验\n",
    "BothofThem.shape,Obama.shape, Romney.shape\n",
    "BothofThem.index\n",
    "PCF_ObamaAndRomney[\"contb_receipt_dt\"].values\n",
    "type(PCF_ObamaAndRomney[\"contb_receipt_dt\"].values)\n",
    "     \n"
   ]
  },
  {
   "cell_type": "code",
   "execution_count": 45,
   "metadata": {},
   "outputs": [
    {
     "data": {
      "text/plain": [
       "[<matplotlib.lines.Line2D at 0x2415a6059b0>]"
      ]
     },
     "execution_count": 45,
     "metadata": {},
     "output_type": "execute_result"
    },
    {
     "data": {
      "image/png": "[encoded data removed]",
      "text/plain": [
       "<Figure size 432x288 with 1 Axes>"
      ]
     },
     "metadata": {
      "needs_background": "light"
     },
     "output_type": "display_data"
    }
   ],
   "source": [
    "import matplotlib.pyplot as plt\n",
    "%matplotlib inline\n",
    "plt.plot(BothofThem.index,BothofThem.values,c=\"blue\",label=\"Both\")\n",
    "plt.plot(Obama.index,Obama.values,c=\"red\",label=\"Obama\")\n",
    "plt.plot(Romney.index,Romney.values,c=\"green\",label=\"Romney\")\n"
   ]
  },
  {
   "cell_type": "code",
   "execution_count": 46,
   "metadata": {},
   "outputs": [
    {
     "name": "stderr",
     "output_type": "stream",
     "text": [
      "C:\\Anaconda\\lib\\site-packages\\pandas\\core\\generic.py:5096: SettingWithCopyWarning: \n",
      "A value is trying to be set on a copy of a slice from a DataFrame.\n",
      "Try using .loc[row_indexer,col_indexer] = value instead\n",
      "\n",
      "See the caveats in the documentation: http://pandas.pydata.org/pandas-docs/stable/indexing.html#indexing-view-versus-copy\n",
      "  self[name] = value\n"
     ]
    },
    {
     "data": {
      "text/html": [
       "<div>\n",
       "<style scoped>\n",
       "    .dataframe tbody tr th:only-of-type {\n",
       "        vertical-align: middle;\n",
       "    }\n",
       "\n",
       "    .dataframe tbody tr th {\n",
       "        vertical-align: top;\n",
       "    }\n",
       "\n",
       "    .dataframe thead th {\n",
       "        text-align: right;\n",
       "    }\n",
       "</style>\n",
       "<table border=\"1\" class=\"dataframe\">\n",
       "  <thead>\n",
       "    <tr style=\"text-align: right;\">\n",
       "      <th></th>\n",
       "      <th>Unnamed: 0</th>\n",
       "      <th>cmte_id</th>\n",
       "      <th>cand_id</th>\n",
       "      <th>cand_nm</th>\n",
       "      <th>contbr_nm</th>\n",
       "      <th>contbr_city</th>\n",
       "      <th>contbr_st</th>\n",
       "      <th>contbr_zip</th>\n",
       "      <th>contbr_employer</th>\n",
       "      <th>contbr_occupation</th>\n",
       "      <th>contb_receipt_amt</th>\n",
       "      <th>contb_receipt_dt</th>\n",
       "      <th>file_num</th>\n",
       "      <th>tran_id</th>\n",
       "      <th>party</th>\n",
       "    </tr>\n",
       "  </thead>\n",
       "  <tbody>\n",
       "    <tr>\n",
       "      <th>411</th>\n",
       "      <td>411</td>\n",
       "      <td>C00431171</td>\n",
       "      <td>P80003353</td>\n",
       "      <td>Romney, Mitt</td>\n",
       "      <td>CLARK, MICHAEL</td>\n",
       "      <td>FORT MEYERS</td>\n",
       "      <td>33</td>\n",
       "      <td>33908</td>\n",
       "      <td>RETIRED</td>\n",
       "      <td>NONE</td>\n",
       "      <td>200.0</td>\n",
       "      <td>2012-09</td>\n",
       "      <td>822044</td>\n",
       "      <td>SA17.2726391</td>\n",
       "      <td>共和党（Republican）</td>\n",
       "    </tr>\n",
       "    <tr>\n",
       "      <th>412</th>\n",
       "      <td>412</td>\n",
       "      <td>C00431171</td>\n",
       "      <td>P80003353</td>\n",
       "      <td>Romney, Mitt</td>\n",
       "      <td>CALIENES, GLADYS MS.</td>\n",
       "      <td>GABLES</td>\n",
       "      <td>33</td>\n",
       "      <td>33146</td>\n",
       "      <td>NOT PROVIDED</td>\n",
       "      <td>NOT PROVIDED</td>\n",
       "      <td>100.0</td>\n",
       "      <td>2012-09</td>\n",
       "      <td>822044</td>\n",
       "      <td>SA17.2588087</td>\n",
       "      <td>共和党（Republican）</td>\n",
       "    </tr>\n",
       "  </tbody>\n",
       "</table>\n",
       "</div>"
      ],
      "text/plain": [
       "     Unnamed: 0    cmte_id    cand_id       cand_nm             contbr_nm  \\\n",
       "411         411  C00431171  P80003353  Romney, Mitt        CLARK, MICHAEL   \n",
       "412         412  C00431171  P80003353  Romney, Mitt  CALIENES, GLADYS MS.   \n",
       "\n",
       "     contbr_city contbr_st contbr_zip contbr_employer contbr_occupation  \\\n",
       "411  FORT MEYERS        33      33908         RETIRED              NONE   \n",
       "412       GABLES        33      33146    NOT PROVIDED      NOT PROVIDED   \n",
       "\n",
       "     contb_receipt_amt contb_receipt_dt  file_num       tran_id  \\\n",
       "411              200.0          2012-09    822044  SA17.2726391   \n",
       "412              100.0          2012-09    822044  SA17.2588087   \n",
       "\n",
       "               party  \n",
       "411  共和党（Republican）  \n",
       "412  共和党（Republican）  "
      ]
     },
     "execution_count": 46,
     "metadata": {},
     "output_type": "execute_result"
    }
   ],
   "source": [
    "#上图是以“日”为单位计算的，显示效果并不清楚\n",
    "   \n",
    "import datetime as dt\n",
    "PCF_ObamaAndRomney.contb_receipt_dt=PCF_ObamaAndRomney.contb_receipt_dt.dt.to_period('m')\n",
    "    \n",
    "    \n",
    "PCF_ObamaAndRomney.head(2)"
   ]
  },
  {
   "cell_type": "code",
   "execution_count": 47,
   "metadata": {},
   "outputs": [],
   "source": [
    "#合并【同月】的捐款数据\n",
    "Romney = PCF_ObamaAndRomney[PCF_ObamaAndRomney.cand_nm=='Romney, Mitt'].groupby(\"contb_receipt_dt\")[\"contb_receipt_amt\"].sum()\n",
    "Obama = PCF_ObamaAndRomney[PCF_ObamaAndRomney.cand_nm=='Obama, Barack'].groupby(\"contb_receipt_dt\")[\"contb_receipt_amt\"].sum()\n",
    "  \n",
    "    \n",
    "BothofThem=PCF_ObamaAndRomney.groupby(\"contb_receipt_dt\")[\"contb_receipt_amt\"].sum()"
   ]
  },
  {
   "cell_type": "code",
   "execution_count": 48,
   "metadata": {},
   "outputs": [
    {
     "data": {
      "text/plain": [
       "<matplotlib.axes._subplots.AxesSubplot at 0x2415a644630>"
      ]
     },
     "execution_count": 48,
     "metadata": {},
     "output_type": "execute_result"
    },
    {
     "data": {
      "image/png": "[encoded data removed]",
      "text/plain": [
       "<Figure size 432x288 with 1 Axes>"
      ]
     },
     "metadata": {
      "needs_background": "light"
     },
     "output_type": "display_data"
    }
   ],
   "source": [
    "BothofThem.plot(color='green',label=\"Both\")\n",
    "Obama.plot(color='red',label=\"Obama\")\n",
    "Romney.plot(color='blue',label=\"Romney\")\n",
    "   "
   ]
  },
  {
   "cell_type": "markdown",
   "metadata": {},
   "source": [
    "#### 最后， 捐助人所在省份分析Donation Statistics by State"
   ]
  },
  {
   "cell_type": "code",
   "execution_count": 49,
   "metadata": {},
   "outputs": [
    {
     "data": {
      "text/html": [
       "<div>\n",
       "<style scoped>\n",
       "    .dataframe tbody tr th:only-of-type {\n",
       "        vertical-align: middle;\n",
       "    }\n",
       "\n",
       "    .dataframe tbody tr th {\n",
       "        vertical-align: top;\n",
       "    }\n",
       "\n",
       "    .dataframe thead th {\n",
       "        text-align: right;\n",
       "    }\n",
       "</style>\n",
       "<table border=\"1\" class=\"dataframe\">\n",
       "  <thead>\n",
       "    <tr style=\"text-align: right;\">\n",
       "      <th>cand_nm</th>\n",
       "      <th>Obama, Barack</th>\n",
       "      <th>Romney, Mitt</th>\n",
       "    </tr>\n",
       "    <tr>\n",
       "      <th>contbr_st</th>\n",
       "      <th></th>\n",
       "      <th></th>\n",
       "    </tr>\n",
       "  </thead>\n",
       "  <tbody>\n",
       "    <tr>\n",
       "      <th>AA</th>\n",
       "      <td>186369.00</td>\n",
       "      <td>5076.00</td>\n",
       "    </tr>\n",
       "    <tr>\n",
       "      <th>AE</th>\n",
       "      <td>224172.52</td>\n",
       "      <td>59438.90</td>\n",
       "    </tr>\n",
       "    <tr>\n",
       "      <th>AK</th>\n",
       "      <td>1361557.02</td>\n",
       "      <td>1413212.99</td>\n",
       "    </tr>\n",
       "    <tr>\n",
       "      <th>AL</th>\n",
       "      <td>2263580.07</td>\n",
       "      <td>7407600.48</td>\n",
       "    </tr>\n",
       "    <tr>\n",
       "      <th>AP</th>\n",
       "      <td>128649.55</td>\n",
       "      <td>32068.00</td>\n",
       "    </tr>\n",
       "    <tr>\n",
       "      <th>AR</th>\n",
       "      <td>1274816.73</td>\n",
       "      <td>3440714.03</td>\n",
       "    </tr>\n",
       "    <tr>\n",
       "      <th>AZ</th>\n",
       "      <td>6504954.41</td>\n",
       "      <td>13812313.41</td>\n",
       "    </tr>\n",
       "    <tr>\n",
       "      <th>CA</th>\n",
       "      <td>91715283.62</td>\n",
       "      <td>75999972.75</td>\n",
       "    </tr>\n",
       "    <tr>\n",
       "      <th>CO</th>\n",
       "      <td>11087619.81</td>\n",
       "      <td>16288069.53</td>\n",
       "    </tr>\n",
       "    <tr>\n",
       "      <th>CT</th>\n",
       "      <td>8302040.42</td>\n",
       "      <td>16332773.75</td>\n",
       "    </tr>\n",
       "  </tbody>\n",
       "</table>\n",
       "</div>"
      ],
      "text/plain": [
       "cand_nm    Obama, Barack  Romney, Mitt\n",
       "contbr_st                             \n",
       "AA             186369.00       5076.00\n",
       "AE             224172.52      59438.90\n",
       "AK            1361557.02    1413212.99\n",
       "AL            2263580.07    7407600.48\n",
       "AP             128649.55      32068.00\n",
       "AR            1274816.73    3440714.03\n",
       "AZ            6504954.41   13812313.41\n",
       "CA           91715283.62   75999972.75\n",
       "CO           11087619.81   16288069.53\n",
       "CT            8302040.42   16332773.75"
      ]
     },
     "execution_count": 49,
     "metadata": {},
     "output_type": "execute_result"
    }
   ],
   "source": [
    "#新增在地图上显示\n",
    "grouped = PCF_ObamaAndRomney.groupby(['cand_nm', 'contbr_st'])\n",
    "totals = grouped.contb_receipt_amt.sum().unstack(0).fillna(0)\n",
    "totals = totals[totals.sum(1) > 100000]\n",
    "totals[:10]"
   ]
  },
  {
   "cell_type": "code",
   "execution_count": 50,
   "metadata": {},
   "outputs": [
    {
     "data": {
      "text/html": [
       "<div>\n",
       "<style scoped>\n",
       "    .dataframe tbody tr th:only-of-type {\n",
       "        vertical-align: middle;\n",
       "    }\n",
       "\n",
       "    .dataframe tbody tr th {\n",
       "        vertical-align: top;\n",
       "    }\n",
       "\n",
       "    .dataframe thead th {\n",
       "        text-align: right;\n",
       "    }\n",
       "</style>\n",
       "<table border=\"1\" class=\"dataframe\">\n",
       "  <thead>\n",
       "    <tr style=\"text-align: right;\">\n",
       "      <th>cand_nm</th>\n",
       "      <th>Obama, Barack</th>\n",
       "      <th>Romney, Mitt</th>\n",
       "    </tr>\n",
       "    <tr>\n",
       "      <th>contbr_st</th>\n",
       "      <th></th>\n",
       "      <th></th>\n",
       "    </tr>\n",
       "  </thead>\n",
       "  <tbody>\n",
       "    <tr>\n",
       "      <th>AA</th>\n",
       "      <td>0.973486</td>\n",
       "      <td>0.026514</td>\n",
       "    </tr>\n",
       "    <tr>\n",
       "      <th>AE</th>\n",
       "      <td>0.790421</td>\n",
       "      <td>0.209579</td>\n",
       "    </tr>\n",
       "    <tr>\n",
       "      <th>AK</th>\n",
       "      <td>0.490692</td>\n",
       "      <td>0.509308</td>\n",
       "    </tr>\n",
       "    <tr>\n",
       "      <th>AL</th>\n",
       "      <td>0.234054</td>\n",
       "      <td>0.765946</td>\n",
       "    </tr>\n",
       "    <tr>\n",
       "      <th>AP</th>\n",
       "      <td>0.800470</td>\n",
       "      <td>0.199530</td>\n",
       "    </tr>\n",
       "    <tr>\n",
       "      <th>AR</th>\n",
       "      <td>0.270344</td>\n",
       "      <td>0.729656</td>\n",
       "    </tr>\n",
       "    <tr>\n",
       "      <th>AZ</th>\n",
       "      <td>0.320169</td>\n",
       "      <td>0.679831</td>\n",
       "    </tr>\n",
       "    <tr>\n",
       "      <th>CA</th>\n",
       "      <td>0.546851</td>\n",
       "      <td>0.453149</td>\n",
       "    </tr>\n",
       "    <tr>\n",
       "      <th>CO</th>\n",
       "      <td>0.405017</td>\n",
       "      <td>0.594983</td>\n",
       "    </tr>\n",
       "    <tr>\n",
       "      <th>CT</th>\n",
       "      <td>0.337004</td>\n",
       "      <td>0.662996</td>\n",
       "    </tr>\n",
       "  </tbody>\n",
       "</table>\n",
       "</div>"
      ],
      "text/plain": [
       "cand_nm    Obama, Barack  Romney, Mitt\n",
       "contbr_st                             \n",
       "AA              0.973486      0.026514\n",
       "AE              0.790421      0.209579\n",
       "AK              0.490692      0.509308\n",
       "AL              0.234054      0.765946\n",
       "AP              0.800470      0.199530\n",
       "AR              0.270344      0.729656\n",
       "AZ              0.320169      0.679831\n",
       "CA              0.546851      0.453149\n",
       "CO              0.405017      0.594983\n",
       "CT              0.337004      0.662996"
      ]
     },
     "execution_count": 50,
     "metadata": {},
     "output_type": "execute_result"
    }
   ],
   "source": [
    "percent = totals.div(totals.sum(1), axis=0)\n",
    "percent[:10]"
   ]
  },
  {
   "cell_type": "code",
   "execution_count": 51,
   "metadata": {},
   "outputs": [],
   "source": [
    "percent.to_csv(\"PCF/percent.csv\")"
   ]
  },
  {
   "cell_type": "markdown",
   "metadata": {},
   "source": [
    "#### （6）结果可视化"
   ]
  },
  {
   "cell_type": "code",
   "execution_count": 52,
   "metadata": {},
   "outputs": [
    {
     "data": {
      "image/png": "[encoded data removed]",
      "text/plain": [
       "<Figure size 432x288 with 1 Axes>"
      ]
     },
     "metadata": {},
     "output_type": "display_data"
    }
   ],
   "source": [
    "from mpl_toolkits.basemap import Basemap\n",
    "import numpy as np\n",
    "import pandas as pd\n",
    "import matplotlib as mpl\n",
    "import matplotlib.pyplot as plt\n",
    "from matplotlib.patches import Polygon\n",
    "\n",
    "fig = plt.figure()\n",
    "ax1 = fig.add_axes([0.1,0.1,0.8,0.8])\n",
    "\n",
    "# 绘制基础地图，选择绘制的区域——美国本土，选取如下经纬度\n",
    "map = Basemap(projection='stere',lat_0=90,lon_0=-105,\n",
    "            llcrnrlat=23.41 ,urcrnrlat=45.44,\n",
    "            llcrnrlon=-118.67,urcrnrlon=-64.52,\n",
    "            rsphere=6371200.,resolution='l',area_thresh=10000,ax=ax1)\n",
    "\n",
    "# 读取美国地图文件，并显示州\n",
    "shp_info = map.readshapefile('PCF/gadm36_USA_shp/gadm36_USA_1','states',drawbounds=True)\n",
    "\n",
    "# 大选投票结果\n",
    "elecResults = pd.read_csv('PCF/percent.csv')\n",
    "# 根据各州选举结果，按照候选人分类\n",
    "Oba = []\n",
    "Rom = []\n",
    "for i in range(len(elecResults)):\n",
    "    if elecResults['Obama, Barack'][i] > 0.5:\n",
    "        Oba.append(elecResults['contbr_st'][i])\n",
    "    else:\n",
    "        Rom.append(elecResults['contbr_st'][i])\n",
    "\n",
    "# 绘图，\n",
    "for info, shp in zip(map.states_info, map.states):\n",
    "    proid = info['HASC_1'][3:]\n",
    "    # 奥巴马是民主党候选人，蓝色表示支持民主党\n",
    "    if proid in Oba:\n",
    "        poly = Polygon(shp,facecolor='b',lw=3)\n",
    "        ax1.add_patch(poly)          \n",
    "    # 罗姆尼是共和党候选人，红色表示支持共和党\n",
    "    if proid in Rom:\n",
    "        poly = Polygon(shp,facecolor='r',lw=3)\n",
    "        ax1.add_patch(poly)       \n",
    "\n",
    "plt.title('USA Presidential Election Results')\n",
    "plt.show()"
   ]
  },
  {
   "cell_type": "markdown",
   "metadata": {},
   "source": [
    "## 1.5 结论与启示"
   ]
  },
  {
   "cell_type": "code",
   "execution_count": null,
   "metadata": {},
   "outputs": [],
   "source": []
  }
 ],
 "metadata": {
  "kernelspec": {
   "display_name": "Python 3",
   "language": "python",
   "name": "python3"
  },
  "language_info": {
   "codemirror_mode": {
    "name": "ipython",
    "version": 3
   },
   "file_extension": ".py",
   "mimetype": "text/x-python",
   "name": "python",
   "nbconvert_exporter": "python",
   "pygments_lexer": "ipython3",
   "version": "3.7.4"
  }
 },
 "nbformat": 4,
 "nbformat_minor": 1
}
