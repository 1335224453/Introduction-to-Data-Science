{
 "cells": [
  {
   "cell_type": "markdown",
   "metadata": {},
   "source": [
    "# R转Python"
   ]
  },
  {
   "cell_type": "markdown",
   "metadata": {},
   "source": [
    "## 6.2 统计分析"
   ]
  },
  {
   "cell_type": "markdown",
   "metadata": {},
   "source": [
    "#### （1）数据读入"
   ]
  },
  {
   "cell_type": "code",
   "execution_count": 2,
   "metadata": {
    "scrolled": true
   },
   "outputs": [
    {
     "name": "stdout",
     "output_type": "stream",
     "text": [
      "   height  weight\n",
      "1      58     115\n",
      "2      59     117\n",
      "3      60     120\n",
      "4      61     123\n",
      "5      62     126\n"
     ]
    }
   ],
   "source": [
    "# 导入Python做数据处理的模块pandas，并取别名为pd\n",
    "# 导入numpy模块，并取别名为np\n",
    "# 从pandas模块中导入DataFrame和Series类\n",
    "import pandas as pd\n",
    "import numpy as np\n",
    "# from pandas import DataFrame, Series\n",
    "    # 调用pandas模块的read_csv()函数，读取一个csv文件，并创建一个DataFrame\n",
    "    # 赋值给变量women， 此时我们是一个DataFrame类型，即数据框\n",
    "    # 注意：因为Python中没有women这样的数据集，此处的women.csv从R中导出\n",
    "women = pd.read_csv('women.csv', index_col=0)\n",
    "\n",
    "# 查看women数据框，可发现第一列为R中的索引\n",
    "print(women.head())"
   ]
  },
  {
   "cell_type": "markdown",
   "metadata": {},
   "source": [
    "#### （2）数据理解"
   ]
  },
  {
   "cell_type": "code",
   "execution_count": 4,
   "metadata": {},
   "outputs": [
    {
     "name": "stdout",
     "output_type": "stream",
     "text": [
      "          height      weight\n",
      "count  15.000000   15.000000\n",
      "mean   65.000000  136.733333\n",
      "std     4.472136   15.498694\n",
      "min    58.000000  115.000000\n",
      "25%    61.500000  124.500000\n",
      "50%    65.000000  135.000000\n",
      "75%    68.500000  148.000000\n",
      "max    72.000000  164.000000\n"
     ]
    }
   ],
   "source": [
    "# 查看描述性统计分析\n",
    "print(women.describe())"
   ]
  },
  {
   "cell_type": "code",
   "execution_count": 5,
   "metadata": {},
   "outputs": [
    {
     "name": "stdout",
     "output_type": "stream",
     "text": [
      "Index(['height', 'weight'], dtype='object')\n"
     ]
    }
   ],
   "source": [
    "# 查看列名\n",
    "print(women.columns)"
   ]
  },
  {
   "cell_type": "code",
   "execution_count": 6,
   "metadata": {},
   "outputs": [
    {
     "name": "stdout",
     "output_type": "stream",
     "text": [
      "行数： 15\n",
      "列数： 2\n"
     ]
    }
   ],
   "source": [
    "# 查看形状\n",
    "print('行数：', women.shape[0])\n",
    "print('列数：', women.shape[1])"
   ]
  },
  {
   "cell_type": "markdown",
   "metadata": {},
   "source": [
    "#### （3）数据建模"
   ]
  },
  {
   "cell_type": "code",
   "execution_count": 7,
   "metadata": {},
   "outputs": [
    {
     "name": "stdout",
     "output_type": "stream",
     "text": [
      "训练模型斜率为： 3.45\n",
      "训练模型截距为： -87.5166666667\n"
     ]
    }
   ],
   "source": [
    "# 从机器学习模块中导入线性回归类LinearRegression\n",
    "from sklearn.linear_model import LinearRegression\n",
    "\n",
    "# 构建模型训练集，由于数据较少，全部数据用于训练\n",
    "# 并设置训练集中的自变量与因变量\n",
    "\n",
    "# 选取特征变值为women.height,构造特征矩阵\n",
    "# 当特征变量为一个时，因调用reshape(-1, 1)方法用于构造特征矩阵\n",
    "X_train = women.height.values.reshape(-1, 1)\n",
    "\n",
    "# 选取响应变量\n",
    "y_train = women.weight\n",
    "\n",
    "# 实例化线性回归模型\n",
    "# fit_intercept参数用于设置是否训练截距\n",
    "model = LinearRegression(fit_intercept=True)\n",
    "\n",
    "# 训练模型\n",
    "model.fit(X_train, y_train)\n",
    "\n",
    "# 查看训练模型的斜率和截距\n",
    "# 训练模型的斜率为一个列表对象，依次为各自变量的斜率\n",
    "# 此处只有一个变量，故列表中只有一个元素\n",
    "print(\"训练模型斜率为：\", model.coef_[0])\n",
    "print(\"训练模型截距为：\", model.intercept_)"
   ]
  },
  {
   "cell_type": "markdown",
   "metadata": {},
   "source": [
    "#### （4）查看模型"
   ]
  },
  {
   "cell_type": "code",
   "execution_count": 8,
   "metadata": {},
   "outputs": [
    {
     "name": "stdout",
     "output_type": "stream",
     "text": [
      "训练模型斜率为： 3.45\n",
      "训练模型截距为： -87.5166666667\n"
     ]
    }
   ],
   "source": [
    "# 查看模型的斜率\n",
    "print(\"训练模型斜率为：\", model.coef_[0])\n",
    "\n",
    "# 查看模型的截距\n",
    "print(\"训练模型截距为：\", model.intercept_)"
   ]
  },
  {
   "cell_type": "markdown",
   "metadata": {},
   "source": [
    "#### （5）模型预测\n"
   ]
  },
  {
   "cell_type": "code",
   "execution_count": 9,
   "metadata": {},
   "outputs": [
    {
     "name": "stdout",
     "output_type": "stream",
     "text": [
      "[ 112.58333333  116.03333333  119.48333333  122.93333333  126.38333333\n",
      "  129.83333333  133.28333333  136.73333333  140.18333333  143.63333333\n",
      "  147.08333333  150.53333333  153.98333333  157.43333333  160.88333333]\n",
      "[115 117 120 123 126 129 132 135 139 142 146 150 154 159 164]\n"
     ]
    }
   ],
   "source": [
    "# 用训练的模型预测对原体重数据进行预测\n",
    "# 返回结果为numpy的数组类型\n",
    "\n",
    "predicted_weight = model.predict(women.height.values.reshape(-1, 1))\n",
    "print(predicted_weight)\n",
    "\n",
    "# 将原体重数据转换为数组，并查看其值\n",
    "print(np.array(women.weight))"
   ]
  },
  {
   "cell_type": "markdown",
   "metadata": {},
   "source": [
    "#### （6）分析结果的可视化"
   ]
  },
  {
   "cell_type": "code",
   "execution_count": 10,
   "metadata": {},
   "outputs": [
    {
     "data": {
      "image/png": "[encoded data removed]",
      "text/plain": [
       "<matplotlib.figure.Figure at 0x1d1d3d88d68>"
      ]
     },
     "metadata": {},
     "output_type": "display_data"
    }
   ],
   "source": [
    "# 导入可视化模块matplotlib.pyplot，并取别名为plt\n",
    "# %matplotlib inline用于设置在jupyter notebook行内显示图形\n",
    "# %matplotlib inline\n",
    "\n",
    "# 此处应注意matplotlib的中文显示问题，需进行简单的配置\n",
    "# 请参看知乎（https://www.zhihu.com/question/25404709）第一个回答\n",
    "\n",
    "import matplotlib.pyplot as plt\n",
    "\n",
    "# 绘制原women数据的散点图\n",
    "plt.scatter(women.height, women.weight)\n",
    "\n",
    "# 绘制用训练模型根据women.height预测的predicted_weight\n",
    "plt.plot(women.height, predicted_weight)\n",
    "\n",
    "# 添加标题\n",
    "plt.title('女性体重与身高的线性回归分析')\n",
    "\n",
    "# 添加X轴名称\n",
    "plt.xlabel('身高')\n",
    "\n",
    "# 添加Y轴名称\n",
    "plt.ylabel('体重')\n",
    "\n",
    "# 显示绘图\n",
    "plt.show()"
   ]
  },
  {
   "cell_type": "markdown",
   "metadata": {
    "collapsed": true
   },
   "source": [
    "#### （7）生成报告"
   ]
  },
  {
   "cell_type": "code",
   "execution_count": 11,
   "metadata": {
    "collapsed": true,
    "scrolled": true
   },
   "outputs": [],
   "source": [
    "# 重新绘制一遍图形，并将结果保存为PDF文件\n",
    "# 若之前为调用show()方法，则可直接保存\n",
    "# 可在调用show()方法之前绘制结果\n",
    "\n",
    "# 绘制原women数据的散点图\n",
    "plt.scatter(women.height, women.weight)\n",
    "\n",
    "# 绘制用训练模型根据women.height预测的predicted_weight\n",
    "plt.plot(women.height, predicted_weight)\n",
    "\n",
    "# 添加标题\n",
    "plt.title('女性体重与身高的线性回归分析')\n",
    "\n",
    "# 添加X轴名称\n",
    "plt.xlabel('身高')\n",
    "\n",
    "# 添加Y轴名称\n",
    "plt.ylabel('体重')\n",
    "\n",
    "# 调用savefig()函数，保存会绘制结果\n",
    "# 也可保存为其他格式，如png, jpg, svg等\n",
    "plt.savefig('线性回归结果.pdf')\n",
    "\n",
    "# 查看绘制结果，查看后绘图面板会变为空白\n",
    "# plt.show()"
   ]
  },
  {
   "cell_type": "markdown",
   "metadata": {},
   "source": [
    "#### 6.3 机器学习\n",
    "\n",
    "【例1】KNN算法"
   ]
  },
  {
   "cell_type": "markdown",
   "metadata": {},
   "source": [
    "#### （1）数据读入"
   ]
  },
  {
   "cell_type": "code",
   "execution_count": 12,
   "metadata": {},
   "outputs": [
    {
     "data": {
      "text/html": [
       "<div>\n",
       "<style>\n",
       "    .dataframe thead tr:only-child th {\n",
       "        text-align: right;\n",
       "    }\n",
       "\n",
       "    .dataframe thead th {\n",
       "        text-align: left;\n",
       "    }\n",
       "\n",
       "    .dataframe tbody tr th {\n",
       "        vertical-align: top;\n",
       "    }\n",
       "</style>\n",
       "<table border=\"1\" class=\"dataframe\">\n",
       "  <thead>\n",
       "    <tr style=\"text-align: right;\">\n",
       "      <th></th>\n",
       "      <th>id</th>\n",
       "      <th>diagnosis</th>\n",
       "      <th>radius_mean</th>\n",
       "      <th>texture_mean</th>\n",
       "      <th>perimeter_mean</th>\n",
       "      <th>area_mean</th>\n",
       "      <th>smoothness_mean</th>\n",
       "      <th>compactness_mean</th>\n",
       "      <th>concavity_mean</th>\n",
       "      <th>concave points_mean</th>\n",
       "      <th>...</th>\n",
       "      <th>radius_worst</th>\n",
       "      <th>texture_worst</th>\n",
       "      <th>perimeter_worst</th>\n",
       "      <th>area_worst</th>\n",
       "      <th>smoothness_worst</th>\n",
       "      <th>compactness_worst</th>\n",
       "      <th>concavity_worst</th>\n",
       "      <th>concave_points_worst</th>\n",
       "      <th>symmetry_worst</th>\n",
       "      <th>fractal_dimension_worst</th>\n",
       "    </tr>\n",
       "  </thead>\n",
       "  <tbody>\n",
       "    <tr>\n",
       "      <th>0</th>\n",
       "      <td>842302</td>\n",
       "      <td>M</td>\n",
       "      <td>17.99</td>\n",
       "      <td>10.38</td>\n",
       "      <td>122.80</td>\n",
       "      <td>1001.0</td>\n",
       "      <td>0.11840</td>\n",
       "      <td>0.27760</td>\n",
       "      <td>0.3001</td>\n",
       "      <td>0.14710</td>\n",
       "      <td>...</td>\n",
       "      <td>25.38</td>\n",
       "      <td>17.33</td>\n",
       "      <td>184.60</td>\n",
       "      <td>2019.0</td>\n",
       "      <td>0.1622</td>\n",
       "      <td>0.6656</td>\n",
       "      <td>0.7119</td>\n",
       "      <td>0.2654</td>\n",
       "      <td>0.4601</td>\n",
       "      <td>0.11890</td>\n",
       "    </tr>\n",
       "    <tr>\n",
       "      <th>1</th>\n",
       "      <td>842517</td>\n",
       "      <td>M</td>\n",
       "      <td>20.57</td>\n",
       "      <td>17.77</td>\n",
       "      <td>132.90</td>\n",
       "      <td>1326.0</td>\n",
       "      <td>0.08474</td>\n",
       "      <td>0.07864</td>\n",
       "      <td>0.0869</td>\n",
       "      <td>0.07017</td>\n",
       "      <td>...</td>\n",
       "      <td>24.99</td>\n",
       "      <td>23.41</td>\n",
       "      <td>158.80</td>\n",
       "      <td>1956.0</td>\n",
       "      <td>0.1238</td>\n",
       "      <td>0.1866</td>\n",
       "      <td>0.2416</td>\n",
       "      <td>0.1860</td>\n",
       "      <td>0.2750</td>\n",
       "      <td>0.08902</td>\n",
       "    </tr>\n",
       "    <tr>\n",
       "      <th>2</th>\n",
       "      <td>84300903</td>\n",
       "      <td>M</td>\n",
       "      <td>19.69</td>\n",
       "      <td>21.25</td>\n",
       "      <td>130.00</td>\n",
       "      <td>1203.0</td>\n",
       "      <td>0.10960</td>\n",
       "      <td>0.15990</td>\n",
       "      <td>0.1974</td>\n",
       "      <td>0.12790</td>\n",
       "      <td>...</td>\n",
       "      <td>23.57</td>\n",
       "      <td>25.53</td>\n",
       "      <td>152.50</td>\n",
       "      <td>1709.0</td>\n",
       "      <td>0.1444</td>\n",
       "      <td>0.4245</td>\n",
       "      <td>0.4504</td>\n",
       "      <td>0.2430</td>\n",
       "      <td>0.3613</td>\n",
       "      <td>0.08758</td>\n",
       "    </tr>\n",
       "    <tr>\n",
       "      <th>3</th>\n",
       "      <td>84348301</td>\n",
       "      <td>M</td>\n",
       "      <td>11.42</td>\n",
       "      <td>20.38</td>\n",
       "      <td>77.58</td>\n",
       "      <td>386.1</td>\n",
       "      <td>0.14250</td>\n",
       "      <td>0.28390</td>\n",
       "      <td>0.2414</td>\n",
       "      <td>0.10520</td>\n",
       "      <td>...</td>\n",
       "      <td>14.91</td>\n",
       "      <td>26.50</td>\n",
       "      <td>98.87</td>\n",
       "      <td>567.7</td>\n",
       "      <td>0.2098</td>\n",
       "      <td>0.8663</td>\n",
       "      <td>0.6869</td>\n",
       "      <td>0.2575</td>\n",
       "      <td>0.6638</td>\n",
       "      <td>0.17300</td>\n",
       "    </tr>\n",
       "    <tr>\n",
       "      <th>4</th>\n",
       "      <td>84358402</td>\n",
       "      <td>M</td>\n",
       "      <td>20.29</td>\n",
       "      <td>14.34</td>\n",
       "      <td>135.10</td>\n",
       "      <td>1297.0</td>\n",
       "      <td>0.10030</td>\n",
       "      <td>0.13280</td>\n",
       "      <td>0.1980</td>\n",
       "      <td>0.10430</td>\n",
       "      <td>...</td>\n",
       "      <td>22.54</td>\n",
       "      <td>16.67</td>\n",
       "      <td>152.20</td>\n",
       "      <td>1575.0</td>\n",
       "      <td>0.1374</td>\n",
       "      <td>0.2050</td>\n",
       "      <td>0.4000</td>\n",
       "      <td>0.1625</td>\n",
       "      <td>0.2364</td>\n",
       "      <td>0.07678</td>\n",
       "    </tr>\n",
       "  </tbody>\n",
       "</table>\n",
       "<p>5 rows × 32 columns</p>\n",
       "</div>"
      ],
      "text/plain": [
       "         id diagnosis  radius_mean  texture_mean  perimeter_mean  area_mean  \\\n",
       "0    842302         M        17.99         10.38          122.80     1001.0   \n",
       "1    842517         M        20.57         17.77          132.90     1326.0   \n",
       "2  84300903         M        19.69         21.25          130.00     1203.0   \n",
       "3  84348301         M        11.42         20.38           77.58      386.1   \n",
       "4  84358402         M        20.29         14.34          135.10     1297.0   \n",
       "\n",
       "   smoothness_mean  compactness_mean  concavity_mean  concave points_mean  \\\n",
       "0          0.11840           0.27760          0.3001              0.14710   \n",
       "1          0.08474           0.07864          0.0869              0.07017   \n",
       "2          0.10960           0.15990          0.1974              0.12790   \n",
       "3          0.14250           0.28390          0.2414              0.10520   \n",
       "4          0.10030           0.13280          0.1980              0.10430   \n",
       "\n",
       "            ...             radius_worst  texture_worst  perimeter_worst  \\\n",
       "0           ...                    25.38          17.33           184.60   \n",
       "1           ...                    24.99          23.41           158.80   \n",
       "2           ...                    23.57          25.53           152.50   \n",
       "3           ...                    14.91          26.50            98.87   \n",
       "4           ...                    22.54          16.67           152.20   \n",
       "\n",
       "   area_worst  smoothness_worst  compactness_worst  concavity_worst  \\\n",
       "0      2019.0            0.1622             0.6656           0.7119   \n",
       "1      1956.0            0.1238             0.1866           0.2416   \n",
       "2      1709.0            0.1444             0.4245           0.4504   \n",
       "3       567.7            0.2098             0.8663           0.6869   \n",
       "4      1575.0            0.1374             0.2050           0.4000   \n",
       "\n",
       "   concave_points_worst  symmetry_worst  fractal_dimension_worst  \n",
       "0                0.2654          0.4601                  0.11890  \n",
       "1                0.1860          0.2750                  0.08902  \n",
       "2                0.2430          0.3613                  0.08758  \n",
       "3                0.2575          0.6638                  0.17300  \n",
       "4                0.1625          0.2364                  0.07678  \n",
       "\n",
       "[5 rows x 32 columns]"
      ]
     },
     "execution_count": 12,
     "metadata": {},
     "output_type": "execute_result"
    }
   ],
   "source": [
    "# 数据已存放在当前目录下\n",
    "# 使用pandas.read_csv()函数读取csv数据集\n",
    "# 由于数据没有列名信息，header设置为None\n",
    "bc_data = pd.read_csv('bc_data.csv', header=0)\n",
    "\n",
    "# 查看前五个观测值\n",
    "# 注意：该数据集第一个变量为ID，无实际意义；第二个变量为诊断结果；\n",
    "# 后30个变量为特征值\n",
    "bc_data.head()"
   ]
  },
  {
   "cell_type": "markdown",
   "metadata": {},
   "source": [
    "#### （2）数据理解"
   ]
  },
  {
   "cell_type": "code",
   "execution_count": 13,
   "metadata": {},
   "outputs": [
    {
     "name": "stdout",
     "output_type": "stream",
     "text": [
      "                 id  radius_mean  texture_mean  perimeter_mean    area_mean  \\\n",
      "count  5.690000e+02   569.000000    569.000000      569.000000   569.000000   \n",
      "mean   3.037183e+07    14.127292     19.289649       91.969033   654.889104   \n",
      "std    1.250206e+08     3.524049      4.301036       24.298981   351.914129   \n",
      "min    8.670000e+03     6.981000      9.710000       43.790000   143.500000   \n",
      "25%    8.692180e+05    11.700000     16.170000       75.170000   420.300000   \n",
      "50%    9.060240e+05    13.370000     18.840000       86.240000   551.100000   \n",
      "75%    8.813129e+06    15.780000     21.800000      104.100000   782.700000   \n",
      "max    9.113205e+08    28.110000     39.280000      188.500000  2501.000000   \n",
      "\n",
      "       smoothness_mean  compactness_mean  concavity_mean  concave points_mean  \\\n",
      "count       569.000000        569.000000      569.000000           569.000000   \n",
      "mean          0.096360          0.104341        0.088799             0.048919   \n",
      "std           0.014064          0.052813        0.079720             0.038803   \n",
      "min           0.052630          0.019380        0.000000             0.000000   \n",
      "25%           0.086370          0.064920        0.029560             0.020310   \n",
      "50%           0.095870          0.092630        0.061540             0.033500   \n",
      "75%           0.105300          0.130400        0.130700             0.074000   \n",
      "max           0.163400          0.345400        0.426800             0.201200   \n",
      "\n",
      "       symmetry_mean           ...             radius_worst  texture_worst  \\\n",
      "count     569.000000           ...               569.000000     569.000000   \n",
      "mean        0.181162           ...                16.269190      25.677223   \n",
      "std         0.027414           ...                 4.833242       6.146258   \n",
      "min         0.106000           ...                 7.930000      12.020000   \n",
      "25%         0.161900           ...                13.010000      21.080000   \n",
      "50%         0.179200           ...                14.970000      25.410000   \n",
      "75%         0.195700           ...                18.790000      29.720000   \n",
      "max         0.304000           ...                36.040000      49.540000   \n",
      "\n",
      "       perimeter_worst   area_worst  smoothness_worst  compactness_worst  \\\n",
      "count       569.000000   569.000000        569.000000         569.000000   \n",
      "mean        107.261213   880.583128          0.132369           0.254265   \n",
      "std          33.602542   569.356993          0.022832           0.157336   \n",
      "min          50.410000   185.200000          0.071170           0.027290   \n",
      "25%          84.110000   515.300000          0.116600           0.147200   \n",
      "50%          97.660000   686.500000          0.131300           0.211900   \n",
      "75%         125.400000  1084.000000          0.146000           0.339100   \n",
      "max         251.200000  4254.000000          0.222600           1.058000   \n",
      "\n",
      "       concavity_worst  concave_points_worst  symmetry_worst  \\\n",
      "count       569.000000            569.000000      569.000000   \n",
      "mean          0.272188              0.114606        0.290076   \n",
      "std           0.208624              0.065732        0.061867   \n",
      "min           0.000000              0.000000        0.156500   \n",
      "25%           0.114500              0.064930        0.250400   \n",
      "50%           0.226700              0.099930        0.282200   \n",
      "75%           0.382900              0.161400        0.317900   \n",
      "max           1.252000              0.291000        0.663800   \n",
      "\n",
      "       fractal_dimension_worst  \n",
      "count               569.000000  \n",
      "mean                  0.083946  \n",
      "std                   0.018061  \n",
      "min                   0.055040  \n",
      "25%                   0.071460  \n",
      "50%                   0.080040  \n",
      "75%                   0.092080  \n",
      "max                   0.207500  \n",
      "\n",
      "[8 rows x 31 columns]\n",
      "Index(['id', 'diagnosis', 'radius_mean', 'texture_mean', 'perimeter_mean',\n",
      "       'area_mean', 'smoothness_mean', 'compactness_mean', 'concavity_mean',\n",
      "       'concave points_mean', 'symmetry_mean', 'fractal_dimension_mean',\n",
      "       'radius_se', 'texture_se', 'perimeter_se', 'area_se', 'smoothness_se',\n",
      "       'compactness_se', 'concavity_se', 'concave points_se', 'symmetry_se',\n",
      "       'fractal_dimension_se', 'radius_worst', 'texture_worst',\n",
      "       'perimeter_worst', 'area_worst', 'smoothness_worst',\n",
      "       'compactness_worst', 'concavity_worst', 'concave_points_worst',\n",
      "       'symmetry_worst', 'fractal_dimension_worst'],\n",
      "      dtype='object')\n",
      "(569, 32)\n"
     ]
    }
   ],
   "source": [
    "# 查看描述性统计分析\n",
    "print(bc_data.describe())\n",
    "\n",
    "# 查看列名\n",
    "print(bc_data.columns)\n",
    "\n",
    "# 查看形状\n",
    "print(bc_data.shape)"
   ]
  },
  {
   "cell_type": "markdown",
   "metadata": {},
   "source": [
    "#### （4）数据准备"
   ]
  },
  {
   "cell_type": "code",
   "execution_count": 14,
   "metadata": {},
   "outputs": [
    {
     "name": "stdout",
     "output_type": "stream",
     "text": [
      "(426, 30)\n",
      "(143, 30)\n"
     ]
    },
    {
     "name": "stderr",
     "output_type": "stream",
     "text": [
      "H:\\Python\\Anaconda\\lib\\site-packages\\sklearn\\cross_validation.py:41: DeprecationWarning: This module was deprecated in version 0.18 in favor of the model_selection module into which all the refactored classes and functions are moved. Also note that the interface of the new CV iterators are different from that of this module. This module will be removed in 0.20.\n",
      "  \"This module will be removed in 0.20.\", DeprecationWarning)\n"
     ]
    }
   ],
   "source": [
    "# 导入train_test_split()函数用于构建训练集和测试集\n",
    "# 导入KNeighborsClassifier分类器\n",
    "from sklearn.cross_validation import train_test_split\n",
    "from sklearn.neighbors import KNeighborsClassifier\n",
    "\n",
    "# 删除没有实际意义的ID项数据\n",
    "data = bc_data.drop(['id'], axis=1)\n",
    "\n",
    "# 查看删除后的数据项\n",
    "# print(data.head())\n",
    "\n",
    "# 获取特征矩阵\n",
    "X_data = data.drop(['diagnosis'], axis=1)\n",
    "\n",
    "# 获取结果数组\n",
    "# np.ravel()用于降维处理\n",
    "y_data = np.ravel(data[['diagnosis']])\n",
    "\n",
    "# 拆分测试数据与训练数据\n",
    "# 用train_test_split()随机拆分训练集合测试集\n",
    "X_train, X_test, y_train, y_test = train_test_split(X_data, y_data, random_state=1)\n",
    "\n",
    "# train_test_split?\n",
    "# 查看训练数据与测试数据的数量\n",
    "print(X_train.shape)\n",
    "print(X_test.shape)"
   ]
  },
  {
   "cell_type": "markdown",
   "metadata": {},
   "source": [
    "#### （5）数据建模"
   ]
  },
  {
   "cell_type": "code",
   "execution_count": 17,
   "metadata": {
    "scrolled": true
   },
   "outputs": [
    {
     "data": {
      "text/plain": [
       "0.93706293706293708"
      ]
     },
     "execution_count": 17,
     "metadata": {},
     "output_type": "execute_result"
    }
   ],
   "source": [
    "# 创建KNN分类模型\n",
    "model = KNeighborsClassifier(algorithm='kd_tree')\n",
    "\n",
    "# 用训练集训练模型\n",
    "model.fit(X_train, y_train)\n",
    "\n",
    "# 用训练模型预测测试集数据\n",
    "y_model = model.predict(X_test)\n",
    "\n",
    "# 查看预测结果和测试集的结果\n",
    "# print(y_model)\n",
    "# print(y_test)\n",
    "\n",
    "# 计算预测准确率\n",
    "np.mean(y_model == y_test)"
   ]
  },
  {
   "cell_type": "markdown",
   "metadata": {},
   "source": [
    "#### （6）模型准确率"
   ]
  },
  {
   "cell_type": "code",
   "execution_count": 18,
   "metadata": {},
   "outputs": [
    {
     "name": "stdout",
     "output_type": "stream",
     "text": [
      "0.937062937063\n"
     ]
    }
   ],
   "source": [
    "# 导入accaccuracy_score()函数用于计算模型的准确率\n",
    "from sklearn.metrics import accuracy_score\n",
    "\n",
    "# 查看模型的准确率\n",
    "print(accuracy_score(y_test, y_model))"
   ]
  },
  {
   "cell_type": "markdown",
   "metadata": {},
   "source": [
    "【例2】K-Means算法"
   ]
  },
  {
   "cell_type": "markdown",
   "metadata": {},
   "source": [
    "#### （1）数据导入"
   ]
  },
  {
   "cell_type": "code",
   "execution_count": 19,
   "metadata": {},
   "outputs": [
    {
     "data": {
      "text/html": [
       "<div>\n",
       "<style>\n",
       "    .dataframe thead tr:only-child th {\n",
       "        text-align: right;\n",
       "    }\n",
       "\n",
       "    .dataframe thead th {\n",
       "        text-align: left;\n",
       "    }\n",
       "\n",
       "    .dataframe tbody tr th {\n",
       "        vertical-align: top;\n",
       "    }\n",
       "</style>\n",
       "<table border=\"1\" class=\"dataframe\">\n",
       "  <thead>\n",
       "    <tr style=\"text-align: right;\">\n",
       "      <th></th>\n",
       "      <th>Country</th>\n",
       "      <th>RedMeat</th>\n",
       "      <th>WhiteMeat</th>\n",
       "      <th>Eggs</th>\n",
       "      <th>Milk</th>\n",
       "      <th>Fish</th>\n",
       "      <th>Cereals</th>\n",
       "      <th>Starch</th>\n",
       "      <th>Nuts</th>\n",
       "      <th>Fr&amp;Veg</th>\n",
       "    </tr>\n",
       "  </thead>\n",
       "  <tbody>\n",
       "    <tr>\n",
       "      <th>0</th>\n",
       "      <td>Albania</td>\n",
       "      <td>10.1</td>\n",
       "      <td>1.4</td>\n",
       "      <td>0.5</td>\n",
       "      <td>8.9</td>\n",
       "      <td>0.2</td>\n",
       "      <td>42.3</td>\n",
       "      <td>0.6</td>\n",
       "      <td>5.5</td>\n",
       "      <td>1.7</td>\n",
       "    </tr>\n",
       "    <tr>\n",
       "      <th>1</th>\n",
       "      <td>Austria</td>\n",
       "      <td>8.9</td>\n",
       "      <td>14.0</td>\n",
       "      <td>4.3</td>\n",
       "      <td>19.9</td>\n",
       "      <td>2.1</td>\n",
       "      <td>28.0</td>\n",
       "      <td>3.6</td>\n",
       "      <td>1.3</td>\n",
       "      <td>4.3</td>\n",
       "    </tr>\n",
       "    <tr>\n",
       "      <th>2</th>\n",
       "      <td>Belgium</td>\n",
       "      <td>13.5</td>\n",
       "      <td>9.3</td>\n",
       "      <td>4.1</td>\n",
       "      <td>17.5</td>\n",
       "      <td>4.5</td>\n",
       "      <td>26.6</td>\n",
       "      <td>5.7</td>\n",
       "      <td>2.1</td>\n",
       "      <td>4.0</td>\n",
       "    </tr>\n",
       "    <tr>\n",
       "      <th>3</th>\n",
       "      <td>Bulgaria</td>\n",
       "      <td>7.8</td>\n",
       "      <td>6.0</td>\n",
       "      <td>1.6</td>\n",
       "      <td>8.3</td>\n",
       "      <td>1.2</td>\n",
       "      <td>56.7</td>\n",
       "      <td>1.1</td>\n",
       "      <td>3.7</td>\n",
       "      <td>4.2</td>\n",
       "    </tr>\n",
       "    <tr>\n",
       "      <th>4</th>\n",
       "      <td>Czechoslovakia</td>\n",
       "      <td>9.7</td>\n",
       "      <td>11.4</td>\n",
       "      <td>2.8</td>\n",
       "      <td>12.5</td>\n",
       "      <td>2.0</td>\n",
       "      <td>34.3</td>\n",
       "      <td>5.0</td>\n",
       "      <td>1.1</td>\n",
       "      <td>4.0</td>\n",
       "    </tr>\n",
       "  </tbody>\n",
       "</table>\n",
       "</div>"
      ],
      "text/plain": [
       "          Country  RedMeat  WhiteMeat  Eggs  Milk  Fish  Cereals  Starch  \\\n",
       "0         Albania     10.1        1.4   0.5   8.9   0.2     42.3     0.6   \n",
       "1         Austria      8.9       14.0   4.3  19.9   2.1     28.0     3.6   \n",
       "2         Belgium     13.5        9.3   4.1  17.5   4.5     26.6     5.7   \n",
       "3        Bulgaria      7.8        6.0   1.6   8.3   1.2     56.7     1.1   \n",
       "4  Czechoslovakia      9.7       11.4   2.8  12.5   2.0     34.3     5.0   \n",
       "\n",
       "   Nuts  Fr&Veg  \n",
       "0   5.5     1.7  \n",
       "1   1.3     4.3  \n",
       "2   2.1     4.0  \n",
       "3   3.7     4.2  \n",
       "4   1.1     4.0  "
      ]
     },
     "execution_count": 19,
     "metadata": {},
     "output_type": "execute_result"
    }
   ],
   "source": [
    "# 读入数据\n",
    "protein = pd.read_table('protein.txt', sep='\\t')\n",
    "\n",
    "# 查看前5条数据\n",
    "protein.head()"
   ]
  },
  {
   "cell_type": "markdown",
   "metadata": {},
   "source": [
    "#### （2）数据理解"
   ]
  },
  {
   "cell_type": "code",
   "execution_count": 20,
   "metadata": {},
   "outputs": [
    {
     "name": "stdout",
     "output_type": "stream",
     "text": [
      "         RedMeat  WhiteMeat       Eggs       Milk       Fish    Cereals  \\\n",
      "count  25.000000  25.000000  25.000000  25.000000  25.000000  25.000000   \n",
      "mean    9.828000   7.896000   2.936000  17.112000   4.284000  32.248000   \n",
      "std     3.347078   3.694081   1.117617   7.105416   3.402533  10.974786   \n",
      "min     4.400000   1.400000   0.500000   4.900000   0.200000  18.600000   \n",
      "25%     7.800000   4.900000   2.700000  11.100000   2.100000  24.300000   \n",
      "50%     9.500000   7.800000   2.900000  17.600000   3.400000  28.000000   \n",
      "75%    10.600000  10.800000   3.700000  23.300000   5.800000  40.100000   \n",
      "max    18.000000  14.000000   4.700000  33.700000  14.200000  56.700000   \n",
      "\n",
      "          Starch       Nuts     Fr&Veg  \n",
      "count  25.000000  25.000000  25.000000  \n",
      "mean    4.276000   3.072000   4.136000  \n",
      "std     1.634085   1.985682   1.803903  \n",
      "min     0.600000   0.700000   1.400000  \n",
      "25%     3.100000   1.500000   2.900000  \n",
      "50%     4.700000   2.400000   3.800000  \n",
      "75%     5.700000   4.700000   4.900000  \n",
      "max     6.500000   7.800000   7.900000  \n"
     ]
    }
   ],
   "source": [
    "# 查看描述性统计分析\n",
    "print(protein.describe())"
   ]
  },
  {
   "cell_type": "code",
   "execution_count": 15,
   "metadata": {},
   "outputs": [
    {
     "name": "stdout",
     "output_type": "stream",
     "text": [
      "Index(['Country', 'RedMeat', 'WhiteMeat', 'Eggs', 'Milk', 'Fish', 'Cereals',\n",
      "       'Starch', 'Nuts', 'Fr&Veg'],\n",
      "      dtype='object')\n"
     ]
    }
   ],
   "source": [
    "# 查看列名\n",
    "print(protein.columns)"
   ]
  },
  {
   "cell_type": "code",
   "execution_count": 21,
   "metadata": {
    "scrolled": true
   },
   "outputs": [
    {
     "name": "stdout",
     "output_type": "stream",
     "text": [
      "(25, 10)\n"
     ]
    }
   ],
   "source": [
    "# 查看行数和列数\n",
    "# 返回（行数, 列数）\n",
    "print(protein.shape)"
   ]
  },
  {
   "cell_type": "markdown",
   "metadata": {},
   "source": [
    "#### （3）数据转换\n"
   ]
  },
  {
   "cell_type": "code",
   "execution_count": 22,
   "metadata": {},
   "outputs": [
    {
     "name": "stdout",
     "output_type": "stream",
     "text": [
      "[[ 0.08294065 -1.79475017 -2.22458425 -1.1795703  -1.22503282  0.9348045\n",
      "  -2.29596509  1.24796771 -1.37825141]\n",
      " [-0.28297397  1.68644628  1.24562107  0.40046785 -0.6551106  -0.39505069\n",
      "  -0.42221774 -0.91079027  0.09278868]\n",
      " [ 1.11969872  0.38790475  1.06297868  0.05573225  0.06479116 -0.5252463\n",
      "   0.88940541 -0.49959828 -0.07694671]\n",
      " [-0.6183957  -0.52383718 -1.22005113 -1.2657542  -0.92507375  2.27395937\n",
      "  -1.98367386  0.32278572  0.03621022]\n",
      " [-0.03903089  0.96810416 -0.12419682 -0.6624669  -0.6851065   0.19082957\n",
      "   0.45219769 -1.01358827 -0.07694671]\n",
      " [ 0.23540507  0.8023329   0.69769391  1.13303099  1.68457011 -0.96233157\n",
      "   0.3272812  -1.21918427 -0.98220215]\n",
      " [-0.43543839  1.02336124  0.69769391 -0.86356267  0.33475432 -0.71124003\n",
      "   1.38907137 -1.16778527 -0.30326057]\n",
      " [-0.10001666 -0.82775116 -0.21551801  2.38269753  0.45473794 -0.55314536\n",
      "   0.51465594 -1.06498727 -1.5479868 ]\n",
      " [ 2.49187852  0.55367601  0.33240914  0.34301192  0.42474204 -0.385751\n",
      "   0.3272812  -0.34540128  1.33751491]\n",
      " [ 0.11343353 -1.35269348 -0.12419682  0.07009624  0.48473385  0.87900638\n",
      "  -1.29663317  2.4301447   1.33751491]\n",
      " [-1.38071781  1.24438959 -0.03287563 -1.06465843 -1.19503691  0.73021139\n",
      "  -0.17238476  1.19656871  0.03621022]\n",
      " [ 1.24167025  0.58130455  1.61090584  1.24794286 -0.62511469 -0.76703815\n",
      "   1.20169663 -0.75659327 -0.69930983]\n",
      " [-0.25248108 -0.77249407 -0.03287563 -0.49009911 -0.26516381  0.42332173\n",
      "  -1.35909141  0.63117972  1.45067184]\n",
      " [-0.10001666  1.57593211  0.60637272  0.90320726 -0.53512697 -0.91583314\n",
      "  -0.04746827 -0.65379528 -0.24668211]\n",
      " [-0.13050955 -0.88300824 -0.21551801  0.88884328  1.62457829 -0.86003502\n",
      "   0.20236471 -0.75659327 -0.81246676]\n",
      " [-0.89283166  0.63656164 -0.21551801  0.31428395 -0.38514744  0.35822393\n",
      "   1.0143219  -0.55099728  1.39409338]\n",
      " [-1.10628185 -1.15929368 -1.67665709 -1.75412962  2.97439408 -0.48804755\n",
      "   1.0143219   0.83677571  2.12961342]\n",
      " [-1.10628185 -0.44095155 -1.31137232 -0.86356267 -0.98506557  1.61368162\n",
      "  -0.73450896  1.14516971 -0.75588829]\n",
      " [-0.83184589 -1.24217931  0.14976676 -1.22266225  0.81468882 -0.28345445\n",
      "   0.88940541  1.45356371  1.73356417]\n",
      " [ 0.02195488 -0.0265234   0.51505153  1.08993904  0.96466835 -1.18552405\n",
      "  -0.35975949 -0.85939127 -1.20851601]\n",
      " [ 0.99772718  0.60893309  0.14976676  0.96066319 -0.59511878 -0.61824316\n",
      "  -0.9218837  -0.34540128  0.43225947]\n",
      " [ 2.30892121 -0.60672281  1.61090584  0.50101573  0.00479935 -0.73913909\n",
      "   0.26482296  0.16858872 -0.47299597]\n",
      " [-0.16100243 -0.91063679 -0.76344517 -0.07354359 -0.38514744  1.05570042\n",
      "   1.32661312  0.16858872 -0.69930983]\n",
      " [ 0.47934814  1.27201813  1.06297868  0.24246404 -0.26516381 -1.26922123\n",
      "   0.57711418 -0.80799227 -0.19010364]\n",
      " [-1.65515377 -0.80012261 -1.5853359  -1.0933864  -1.10504919  2.19956187\n",
      "  -0.79696721  1.35076571 -0.52957443]]\n"
     ]
    }
   ],
   "source": [
    "from sklearn import preprocessing\n",
    "\n",
    "# 由于Country不是一个特征值，故舍去\n",
    "sprotein = protein.drop(['Country'], axis=1)\n",
    "\n",
    "# 对数据进行标准化处理\n",
    "sprotein_scaled = preprocessing.scale(sprotein)\n",
    "\n",
    "# 查看处理结果\n",
    "print(sprotein_scaled)"
   ]
  },
  {
   "cell_type": "markdown",
   "metadata": {},
   "source": [
    "#### （4）数据建模"
   ]
  },
  {
   "cell_type": "code",
   "execution_count": 23,
   "metadata": {},
   "outputs": [
    {
     "data": {
      "text/plain": [
       "KMeans(algorithm='auto', copy_x=True, init='k-means++', max_iter=300,\n",
       "    n_clusters=5, n_init=10, n_jobs=1, precompute_distances='auto',\n",
       "    random_state=None, tol=0.0001, verbose=0)"
      ]
     },
     "execution_count": 23,
     "metadata": {},
     "output_type": "execute_result"
    }
   ],
   "source": [
    "# 导入KMeans类型\n",
    "from sklearn.cluster import KMeans\n",
    "\n",
    "# 实例化一个KMeans聚类器\n",
    "# n_cluster为聚类中心\n",
    "kmeans = KMeans(n_clusters=5)\n",
    "\n",
    "# 训练模型\n",
    "kmeans.fit(sprotein)\n",
    "\n",
    "# dir(kmeans)"
   ]
  },
  {
   "cell_type": "markdown",
   "metadata": {},
   "source": [
    "#### （5）查看模型"
   ]
  },
  {
   "cell_type": "code",
   "execution_count": 24,
   "metadata": {},
   "outputs": [
    {
     "name": "stdout",
     "output_type": "stream",
     "text": [
      "KMeans(algorithm='auto', copy_x=True, init='k-means++', max_iter=300,\n",
      "    n_clusters=5, n_init=10, n_jobs=1, precompute_distances='auto',\n",
      "    random_state=None, tol=0.0001, verbose=0)\n"
     ]
    }
   ],
   "source": [
    "# 查看模型\n",
    "print(kmeans)"
   ]
  },
  {
   "cell_type": "markdown",
   "metadata": {},
   "source": [
    "#### （6）模型预测"
   ]
  },
  {
   "cell_type": "code",
   "execution_count": 25,
   "metadata": {},
   "outputs": [
    {
     "name": "stdout",
     "output_type": "stream",
     "text": [
      "[2 4 4 0 2 1 4 1 4 2 2 4 2 4 1 2 3 0 3 1 4 4 2 4 0]\n"
     ]
    }
   ],
   "source": [
    "# 预测聚类结果\n",
    "y_kmeans = kmeans.predict(sprotein)\n",
    "print(y_kmeans)"
   ]
  },
  {
   "cell_type": "markdown",
   "metadata": {},
   "source": [
    "#### （7）结果输出"
   ]
  },
  {
   "cell_type": "code",
   "execution_count": 26,
   "metadata": {},
   "outputs": [
    {
     "name": "stdout",
     "output_type": "stream",
     "text": [
      "聚类 0\n",
      "       Country  RedMeat  Fish  Fr&Veg\n",
      "3     Bulgaria      7.8   1.2     4.2\n",
      "17     Romania      6.2   1.0     2.8\n",
      "24  Yugoslavia      4.4   0.6     3.2\n",
      "聚类 1\n",
      "    Country  RedMeat  Fish  Fr&Veg\n",
      "5   Denmark     10.6   9.9     2.4\n",
      "7   Finland      9.5   5.8     1.4\n",
      "14   Norway      9.4   9.7     2.7\n",
      "19   Sweden      9.9   7.5     2.0\n",
      "聚类 2\n",
      "           Country  RedMeat  Fish  Fr&Veg\n",
      "0          Albania     10.1   0.2     1.7\n",
      "4   Czechoslovakia      9.7   2.0     4.0\n",
      "9           Greece     10.2   5.9     6.5\n",
      "10         Hungary      5.3   0.3     4.2\n",
      "12           Italy      9.0   3.4     6.7\n",
      "15          Poland      6.9   3.0     6.6\n",
      "22            USSR      9.3   3.0     2.9\n",
      "聚类 3\n",
      "     Country  RedMeat  Fish  Fr&Veg\n",
      "16  Portugal      6.2  14.2     7.9\n",
      "18     Spain      7.1   7.0     7.2\n",
      "聚类 4\n",
      "        Country  RedMeat  Fish  Fr&Veg\n",
      "1       Austria      8.9   2.1     4.3\n",
      "2       Belgium     13.5   4.5     4.0\n",
      "6     E Germany      8.4   5.4     3.6\n",
      "8        France     18.0   5.7     6.5\n",
      "11      Ireland     13.9   2.2     2.9\n",
      "13  Netherlands      9.5   2.5     3.7\n",
      "20  Switzerland     13.1   2.3     4.9\n",
      "21           UK     17.4   4.3     3.3\n",
      "23    W Germany     11.4   3.4     3.8\n"
     ]
    }
   ],
   "source": [
    "def print_kmcluster(k):\n",
    "    '''用于聚类结果的输出\n",
    "       k：为聚类中心个数\n",
    "    '''\n",
    "    for i in range(k):\n",
    "        print('聚类', i)\n",
    "        ls = []\n",
    "        for index, value in enumerate(y_kmeans):\n",
    "            if i == value:\n",
    "                ls.append(index)\n",
    "        print(protein.loc[ls, ['Country', 'RedMeat', 'Fish', 'Fr&Veg']])\n",
    "            \n",
    "print_kmcluster(5)          "
   ]
  },
  {
   "cell_type": "markdown",
   "metadata": {},
   "source": [
    "#### 6.4 数据可视化"
   ]
  },
  {
   "cell_type": "markdown",
   "metadata": {},
   "source": [
    "#### （1）数据准备"
   ]
  },
  {
   "cell_type": "code",
   "execution_count": 27,
   "metadata": {
    "scrolled": false
   },
   "outputs": [
    {
     "data": {
      "text/html": [
       "<div>\n",
       "<style>\n",
       "    .dataframe thead tr:only-child th {\n",
       "        text-align: right;\n",
       "    }\n",
       "\n",
       "    .dataframe thead th {\n",
       "        text-align: left;\n",
       "    }\n",
       "\n",
       "    .dataframe tbody tr th {\n",
       "        vertical-align: top;\n",
       "    }\n",
       "</style>\n",
       "<table border=\"1\" class=\"dataframe\">\n",
       "  <thead>\n",
       "    <tr style=\"text-align: right;\">\n",
       "      <th></th>\n",
       "      <th>rank</th>\n",
       "      <th>discipline</th>\n",
       "      <th>yrs.since.phd</th>\n",
       "      <th>yrs.service</th>\n",
       "      <th>sex</th>\n",
       "      <th>salary</th>\n",
       "    </tr>\n",
       "  </thead>\n",
       "  <tbody>\n",
       "    <tr>\n",
       "      <th>1</th>\n",
       "      <td>Prof</td>\n",
       "      <td>B</td>\n",
       "      <td>19</td>\n",
       "      <td>18</td>\n",
       "      <td>Male</td>\n",
       "      <td>139750</td>\n",
       "    </tr>\n",
       "    <tr>\n",
       "      <th>2</th>\n",
       "      <td>Prof</td>\n",
       "      <td>B</td>\n",
       "      <td>20</td>\n",
       "      <td>16</td>\n",
       "      <td>Male</td>\n",
       "      <td>173200</td>\n",
       "    </tr>\n",
       "    <tr>\n",
       "      <th>3</th>\n",
       "      <td>AsstProf</td>\n",
       "      <td>B</td>\n",
       "      <td>4</td>\n",
       "      <td>3</td>\n",
       "      <td>Male</td>\n",
       "      <td>79750</td>\n",
       "    </tr>\n",
       "    <tr>\n",
       "      <th>4</th>\n",
       "      <td>Prof</td>\n",
       "      <td>B</td>\n",
       "      <td>45</td>\n",
       "      <td>39</td>\n",
       "      <td>Male</td>\n",
       "      <td>115000</td>\n",
       "    </tr>\n",
       "    <tr>\n",
       "      <th>5</th>\n",
       "      <td>Prof</td>\n",
       "      <td>B</td>\n",
       "      <td>40</td>\n",
       "      <td>41</td>\n",
       "      <td>Male</td>\n",
       "      <td>141500</td>\n",
       "    </tr>\n",
       "  </tbody>\n",
       "</table>\n",
       "</div>"
      ],
      "text/plain": [
       "       rank discipline  yrs.since.phd  yrs.service   sex  salary\n",
       "1      Prof          B             19           18  Male  139750\n",
       "2      Prof          B             20           16  Male  173200\n",
       "3  AsstProf          B              4            3  Male   79750\n",
       "4      Prof          B             45           39  Male  115000\n",
       "5      Prof          B             40           41  Male  141500"
      ]
     },
     "execution_count": 27,
     "metadata": {},
     "output_type": "execute_result"
    }
   ],
   "source": [
    "# 读取数据\n",
    "salaries = pd.read_csv('salaries.csv', index_col=0)\n",
    "\n",
    "# 查看数据\n",
    "salaries.head()"
   ]
  },
  {
   "cell_type": "markdown",
   "metadata": {},
   "source": [
    "#### （2）导入matplotlib包"
   ]
  },
  {
   "cell_type": "code",
   "execution_count": 28,
   "metadata": {
    "collapsed": true
   },
   "outputs": [],
   "source": [
    "# 导入matplotlib.pyplot模块，并取别名为plt\n",
    "import matplotlib.pyplot as plt\n",
    "# 导入seaborn包，并取别名为sns\n",
    "# 如果为安装该包，可在系统命令行下使用一下命令安装\n",
    "# pip install seaborn\n",
    "# conda install seaborn\n",
    "import seaborn as sns\n",
    "# 设置行内显示图片\n",
    "%matplotlib inline\n"
   ]
  },
  {
   "cell_type": "markdown",
   "metadata": {},
   "source": [
    "#### （3）可视化绘图"
   ]
  },
  {
   "cell_type": "code",
   "execution_count": 29,
   "metadata": {},
   "outputs": [
    {
     "data": {
      "text/plain": [
       "<matplotlib.axes._subplots.AxesSubplot at 0x1d1d6d9c080>"
      ]
     },
     "execution_count": 29,
     "metadata": {},
     "output_type": "execute_result"
    },
    {
     "data": {
      "image/png": "[encoded data removed]",
      "text/plain": [
       "<matplotlib.figure.Figure at 0x1d1d6d94b38>"
      ]
     },
     "metadata": {},
     "output_type": "display_data"
    }
   ],
   "source": [
    "# 设置图片样式\n",
    "sns.set_style('darkgrid')\n",
    "\n",
    "# 绘制散点图\n",
    "sns.stripplot(data=salaries, x='rank', y='salary', jitter=True, alpha=0.5)\n",
    "\n",
    "# 绘制箱线图\n",
    "sns.boxplot(data=salaries, x='rank', y='salary')"
   ]
  }
 ],
 "metadata": {
  "anaconda-cloud": {},
  "kernelspec": {
   "display_name": "Python 3",
   "language": "python",
   "name": "python3"
  },
  "language_info": {
   "codemirror_mode": {
    "name": "ipython",
    "version": 3
   },
   "file_extension": ".py",
   "mimetype": "text/x-python",
   "name": "python",
   "nbconvert_exporter": "python",
   "pygments_lexer": "ipython3",
   "version": "3.6.2"
  },
  "toc": {
   "nav_menu": {},
   "number_sections": true,
   "sideBar": true,
   "skip_h1_title": false,
   "toc_cell": false,
   "toc_position": {},
   "toc_section_display": "block",
   "toc_window_display": false
  },
  "varInspector": {
   "cols": {
    "lenName": 16,
    "lenType": 16,
    "lenVar": 40
   },
   "kernels_config": {
    "python": {
     "delete_cmd_postfix": "",
     "delete_cmd_prefix": "del ",
     "library": "var_list.py",
     "varRefreshCmd": "print(var_dic_list())"
    },
    "r": {
     "delete_cmd_postfix": ") ",
     "delete_cmd_prefix": "rm(",
     "library": "var_list.r",
     "varRefreshCmd": "cat(var_dic_list()) "
    }
   },
   "types_to_exclude": [
    "module",
    "function",
    "builtin_function_or_method",
    "instance",
    "_Feature"
   ],
   "window_display": false
  }
 },
 "nbformat": 4,
 "nbformat_minor": 1
}
